{
 "cells": [
  {
   "cell_type": "markdown",
   "id": "50db8e20",
   "metadata": {},
   "source": [
    "# Assignment 10"
   ]
  },
  {
   "cell_type": "markdown",
   "id": "a919ff03",
   "metadata": {},
   "source": [
    "1. How do you distinguish between shutil.copy() and shutil.copytree()?\n",
    "2. What function is used to rename files?\n",
    "3. What is the difference between the delete functions in the send2trash and shutil modules?\n",
    "4.ZipFile objects have a close() method just like File objects’ close() method. What ZipFile method is\n",
    "equivalent to File objects’ open() method?\n",
    "5. Create a programme that searches a folder tree for files with a certain file extension (such as .pdf\n",
    "or .jpg). Copy these files from whatever location they are in to a new folder."
   ]
  },
  {
   "cell_type": "markdown",
   "id": "513fe141",
   "metadata": {},
   "source": [
    "##### 1.How do you distinguish between shutil.copy() and shutil.copytree()?"
   ]
  },
  {
   "cell_type": "code",
   "execution_count": null,
   "id": "6803f51b",
   "metadata": {},
   "outputs": [],
   "source": [
    "shutil.copy() -  This function copies single file.\n",
    "shutil.copytree() - This function copies entire folder"
   ]
  },
  {
   "cell_type": "markdown",
   "id": "08067c24",
   "metadata": {},
   "source": [
    "##### 2.What function is used to rename files?"
   ]
  },
  {
   "cell_type": "code",
   "execution_count": null,
   "id": "3b58f4b5",
   "metadata": {},
   "outputs": [],
   "source": [
    "shutil.move() fuction is used to rename the files and also moving files."
   ]
  },
  {
   "cell_type": "markdown",
   "id": "71a3c16b",
   "metadata": {},
   "source": [
    "##### 3.What is the difference between the delete functions in the send2trash and shutil modules?"
   ]
  },
  {
   "cell_type": "code",
   "execution_count": null,
   "id": "0c75ddf6",
   "metadata": {},
   "outputs": [],
   "source": [
    "The send2trash functions will move a file or folder to the recycle bin, while shutil functions will permanently delete files and folders."
   ]
  },
  {
   "cell_type": "markdown",
   "id": "43210ffd",
   "metadata": {},
   "source": [
    "##### 4.ZipFile objects have a close() method just like File objects’ close() method. What ZipFile method is equivalent to File objects’ open() method?"
   ]
  },
  {
   "cell_type": "code",
   "execution_count": null,
   "id": "357aaf21",
   "metadata": {},
   "outputs": [],
   "source": [
    "The zipfile.ZipFile() function method is equivalent to the open() function.The first argument is the filename, and the second argument is the mode to open the ZIP file in (read, write, or append)."
   ]
  },
  {
   "cell_type": "markdown",
   "id": "594d799d",
   "metadata": {},
   "source": [
    "##### 5.Create a programme that searches a folder tree for files with a certain file extension (such as .pdf or .jpg). Copy these files from whatever location they are in to a new folder."
   ]
  },
  {
   "cell_type": "code",
   "execution_count": 1,
   "id": "a13f4a25",
   "metadata": {},
   "outputs": [],
   "source": [
    "import os,shutil\n",
    "def copy_files(folder,extensions,destfolder):\n",
    "    folder=os.path.abspath(folder)\n",
    "    destfolder=os.path.abspath(destfolder)\n",
    "    print('Checking',folder,'for files with extension of',extensions)\n",
    "    for foldername,subfolders,filenames in os.walk(folder):\n",
    "        for filename in filenames:\n",
    "            name,extension=os.path.splitext(filename)\n",
    "            if extension in extensions:\n",
    "                fileAbspath=foldername+os.path.sep+filename\n",
    "                shutil.copy(fileAbsPath,destfolder)"
   ]
  },
  {
   "cell_type": "code",
   "execution_count": 2,
   "id": "f106c8b5",
   "metadata": {
    "scrolled": false
   },
   "outputs": [
    {
     "name": "stdout",
     "output_type": "stream",
     "text": [
      "Checking C:\\Users\\MEGHANA\\images for files with extension of .png\n"
     ]
    }
   ],
   "source": [
    "copy_files('images','.png','New')"
   ]
  },
  {
   "cell_type": "code",
   "execution_count": null,
   "id": "d51685d7",
   "metadata": {},
   "outputs": [],
   "source": []
  }
 ],
 "metadata": {
  "kernelspec": {
   "display_name": "Python 3 (ipykernel)",
   "language": "python",
   "name": "python3"
  },
  "language_info": {
   "codemirror_mode": {
    "name": "ipython",
    "version": 3
   },
   "file_extension": ".py",
   "mimetype": "text/x-python",
   "name": "python",
   "nbconvert_exporter": "python",
   "pygments_lexer": "ipython3",
   "version": "3.9.13"
  }
 },
 "nbformat": 4,
 "nbformat_minor": 5
}
