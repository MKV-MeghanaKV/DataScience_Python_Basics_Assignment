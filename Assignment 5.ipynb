{
 "cells": [
  {
   "cell_type": "markdown",
   "id": "44f03807",
   "metadata": {},
   "source": [
    "# Assignment 5"
   ]
  },
  {
   "cell_type": "markdown",
   "id": "c78f0d61",
   "metadata": {},
   "source": []
  },
  {
   "cell_type": "markdown",
   "id": "92c03921",
   "metadata": {},
   "source": [
    "##### 1.What does an empty dictionary's code look like?\n",
    "      Empty dictionary looks like closed flower braces{}."
   ]
  },
  {
   "cell_type": "code",
   "execution_count": 6,
   "id": "6aa3590c",
   "metadata": {},
   "outputs": [
    {
     "data": {
      "text/plain": [
       "dict"
      ]
     },
     "execution_count": 6,
     "metadata": {},
     "output_type": "execute_result"
    }
   ],
   "source": [
    "dict1={}\n",
    "type(dict1)"
   ]
  },
  {
   "cell_type": "markdown",
   "id": "e9a5a2db",
   "metadata": {},
   "source": [
    "##### 2.What is the value of a dictionary value with the key 'foo' and the value 42?\n",
    "      "
   ]
  },
  {
   "cell_type": "code",
   "execution_count": 7,
   "id": "6425ea87",
   "metadata": {},
   "outputs": [
    {
     "data": {
      "text/plain": [
       "{'foo': 42}"
      ]
     },
     "execution_count": 7,
     "metadata": {},
     "output_type": "execute_result"
    }
   ],
   "source": [
    "d={'foo':42}\n",
    "d"
   ]
  },
  {
   "cell_type": "markdown",
   "id": "68ea1796",
   "metadata": {},
   "source": [
    "##### 3.What is the most significant distinction between a dictionary and a list?\n",
    "   Items in the list are ordered.While items in dictionary are unordered."
   ]
  },
  {
   "cell_type": "code",
   "execution_count": null,
   "id": "174ce5a0",
   "metadata": {},
   "outputs": [],
   "source": []
  },
  {
   "cell_type": "markdown",
   "id": "bfec1805",
   "metadata": {},
   "source": [
    "##### 4.What happens if you try to access spam['foo'] if spam is {'bar': 100}?\n",
    "  Gives keyerror as 'foo' is not a key  in spam."
   ]
  },
  {
   "cell_type": "code",
   "execution_count": 11,
   "id": "6d065e49",
   "metadata": {},
   "outputs": [],
   "source": [
    "spam={'bar':100}"
   ]
  },
  {
   "cell_type": "code",
   "execution_count": 13,
   "id": "847e691a",
   "metadata": {},
   "outputs": [
    {
     "ename": "KeyError",
     "evalue": "'foo'",
     "output_type": "error",
     "traceback": [
      "\u001b[1;31m---------------------------------------------------------------------------\u001b[0m",
      "\u001b[1;31mKeyError\u001b[0m                                  Traceback (most recent call last)",
      "\u001b[1;32m~\\AppData\\Local\\Temp/ipykernel_29084/3999281786.py\u001b[0m in \u001b[0;36m<module>\u001b[1;34m\u001b[0m\n\u001b[1;32m----> 1\u001b[1;33m \u001b[0mspam\u001b[0m\u001b[1;33m[\u001b[0m\u001b[1;34m'foo'\u001b[0m\u001b[1;33m]\u001b[0m\u001b[1;33m\u001b[0m\u001b[1;33m\u001b[0m\u001b[0m\n\u001b[0m",
      "\u001b[1;31mKeyError\u001b[0m: 'foo'"
     ]
    }
   ],
   "source": [
    "spam['foo']"
   ]
  },
  {
   "cell_type": "markdown",
   "id": "5fcd5932",
   "metadata": {},
   "source": [
    "##### 5. If a dictionary is stored in spam, what is the difference between the expressions 'cat' in spam and 'cat' in spam.keys()?\n",
    "     There is no difference between them.Both checks whether a value exists as key in dictionary. "
   ]
  },
  {
   "cell_type": "code",
   "execution_count": 15,
   "id": "6b8d47ef",
   "metadata": {},
   "outputs": [
    {
     "data": {
      "text/plain": [
       "True"
      ]
     },
     "execution_count": 15,
     "metadata": {},
     "output_type": "execute_result"
    }
   ],
   "source": [
    "spam={'cat':'billi'}\n",
    "'cat' in spam"
   ]
  },
  {
   "cell_type": "code",
   "execution_count": 16,
   "id": "259cca49",
   "metadata": {},
   "outputs": [
    {
     "data": {
      "text/plain": [
       "True"
      ]
     },
     "execution_count": 16,
     "metadata": {},
     "output_type": "execute_result"
    }
   ],
   "source": [
    "'cat' in spam.keys()"
   ]
  },
  {
   "cell_type": "markdown",
   "id": "6826c6ec",
   "metadata": {},
   "source": [
    "##### 6. If a dictionary is stored in spam, what is the difference between the expressions 'cat' in spam and 'cat' in spam.values()?\n",
    "   'cat' in spam checks whether 'cat' key is there in dictionary.'cat' in spam.values() checks whether there is 'cat' value for     any key in dictionary."
   ]
  },
  {
   "cell_type": "code",
   "execution_count": 17,
   "id": "fa39033a",
   "metadata": {},
   "outputs": [
    {
     "data": {
      "text/plain": [
       "True"
      ]
     },
     "execution_count": 17,
     "metadata": {},
     "output_type": "execute_result"
    }
   ],
   "source": [
    "spam={'cat':'billi'}\n",
    "'cat' in spam"
   ]
  },
  {
   "cell_type": "code",
   "execution_count": 18,
   "id": "843b4e2f",
   "metadata": {},
   "outputs": [
    {
     "data": {
      "text/plain": [
       "False"
      ]
     },
     "execution_count": 18,
     "metadata": {},
     "output_type": "execute_result"
    }
   ],
   "source": [
    "'cat' in spam.values()"
   ]
  },
  {
   "cell_type": "markdown",
   "id": "bbe0e109",
   "metadata": {},
   "source": [
    "##### 7. What is a shortcut for the following code?\n",
    "if 'color' not in spam:\n",
    "spam['color'] = 'black'"
   ]
  },
  {
   "cell_type": "code",
   "execution_count": 20,
   "id": "ef3a25aa",
   "metadata": {},
   "outputs": [
    {
     "data": {
      "text/plain": [
       "{'cat': 'billi', 'color': 'black'}"
      ]
     },
     "execution_count": 20,
     "metadata": {},
     "output_type": "execute_result"
    }
   ],
   "source": [
    "spam.setdefault('color','black')\n",
    "spam"
   ]
  },
  {
   "cell_type": "markdown",
   "id": "15ba63e9",
   "metadata": {},
   "source": [
    "##### 8. How do you \"pretty print\" dictionary values using which module and function?\n",
    "    Using pprint module and pprint() function."
   ]
  },
  {
   "cell_type": "code",
   "execution_count": 23,
   "id": "eb72fc41",
   "metadata": {},
   "outputs": [
    {
     "name": "stdout",
     "output_type": "stream",
     "text": [
      "{'branch': 'ECE', 'cgpa': 8.87, 'name': 'Meghana'}\n"
     ]
    }
   ],
   "source": [
    "import pprint\n",
    "c={'name':'Meghana','branch':'ECE','cgpa':8.87}\n",
    "pprint.pprint(c)"
   ]
  },
  {
   "cell_type": "code",
   "execution_count": 24,
   "id": "8fe3da80",
   "metadata": {},
   "outputs": [
    {
     "data": {
      "text/plain": [
       "\"{'branch': 'ECE', 'cgpa': 8.87, 'name': 'Meghana'}\""
      ]
     },
     "execution_count": 24,
     "metadata": {},
     "output_type": "execute_result"
    }
   ],
   "source": [
    "pprint.pformat(c)"
   ]
  },
  {
   "cell_type": "code",
   "execution_count": null,
   "id": "ee9008e4",
   "metadata": {},
   "outputs": [],
   "source": []
  }
 ],
 "metadata": {
  "kernelspec": {
   "display_name": "Python 3 (ipykernel)",
   "language": "python",
   "name": "python3"
  },
  "language_info": {
   "codemirror_mode": {
    "name": "ipython",
    "version": 3
   },
   "file_extension": ".py",
   "mimetype": "text/x-python",
   "name": "python",
   "nbconvert_exporter": "python",
   "pygments_lexer": "ipython3",
   "version": "3.9.7"
  }
 },
 "nbformat": 4,
 "nbformat_minor": 5
}
