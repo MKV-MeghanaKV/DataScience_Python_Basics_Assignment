{
 "cells": [
  {
   "cell_type": "markdown",
   "id": "6727f6d4",
   "metadata": {},
   "source": [
    "# Assignment 9"
   ]
  },
  {
   "cell_type": "markdown",
   "id": "fd861a9d",
   "metadata": {},
   "source": [
    "##### 1. To what does a relative path refer?\n",
    "     Relative path refers to path of the current working directory."
   ]
  },
  {
   "cell_type": "markdown",
   "id": "f2cdf9a4",
   "metadata": {},
   "source": [
    "##### 2. What does an absolute path start with your operating system?\n",
    "     Absolute path starts with root folder like C:/,D:/,E:/ or /."
   ]
  },
  {
   "cell_type": "markdown",
   "id": "2109d1c3",
   "metadata": {},
   "source": [
    "##### 3. What do the functions os.getcwd() and os.chdir() do?\n",
    "      os.getcwd() function returns current working directory.\n",
    "      os.chdir() function used to change the current working directory."
   ]
  },
  {
   "cell_type": "markdown",
   "id": "0f15b07f",
   "metadata": {},
   "source": [
    "##### 4. What are the . and .. folders?\n",
    "    . folder is the current folder.\n",
    "    .. is the parent folder."
   ]
  },
  {
   "cell_type": "markdown",
   "id": "546185e6",
   "metadata": {},
   "source": [
    "##### 5. In C:\\bacon\\eggs\\spam.txt, which part is the dir name, and which part is the base name?\n",
    "     C:\\bacon\\eggs is the dir name.\n",
    "     spam.txt is the base name."
   ]
  },
  {
   "cell_type": "markdown",
   "id": "55336efe",
   "metadata": {},
   "source": [
    "##### 6. What are the three “mode” arguments that can be passed to the open() function?\n",
    "      'r' for read mode.\n",
    "      'w' for write mode.\n",
    "      'a' for append mode."
   ]
  },
  {
   "cell_type": "markdown",
   "id": "1e10abe6",
   "metadata": {},
   "source": [
    "##### 7. What happens if an existing file is opened in write mode?\n",
    "      If an existing file is opened in write mode previous data are erased in it and completly overwritten."
   ]
  },
  {
   "cell_type": "markdown",
   "id": "21e7ab39",
   "metadata": {},
   "source": [
    "##### 8. How do you tell the difference between read() and readlines()?\n",
    "    The read() method returns entire content of the file as single string.The readlines() returns list of strings where each string is line from content of file."
   ]
  },
  {
   "cell_type": "markdown",
   "id": "dab1ad18",
   "metadata": {},
   "source": [
    "##### 9. What data structure does a shelf value resemble?\n",
    "    A shelf value resembles dictinory it has keys and values.It also has keys() , values() method to get keys and values\n",
    "    respectively like dictinory methods."
   ]
  },
  {
   "cell_type": "code",
   "execution_count": null,
   "id": "eb110b29",
   "metadata": {},
   "outputs": [],
   "source": []
  }
 ],
 "metadata": {
  "kernelspec": {
   "display_name": "Python 3 (ipykernel)",
   "language": "python",
   "name": "python3"
  },
  "language_info": {
   "codemirror_mode": {
    "name": "ipython",
    "version": 3
   },
   "file_extension": ".py",
   "mimetype": "text/x-python",
   "name": "python",
   "nbconvert_exporter": "python",
   "pygments_lexer": "ipython3",
   "version": "3.9.7"
  }
 },
 "nbformat": 4,
 "nbformat_minor": 5
}
