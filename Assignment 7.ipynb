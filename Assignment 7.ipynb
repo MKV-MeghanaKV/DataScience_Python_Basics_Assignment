{
 "cells": [
  {
   "cell_type": "markdown",
   "id": "54f59045",
   "metadata": {},
   "source": [
    "# Assignment 7"
   ]
  },
  {
   "cell_type": "markdown",
   "id": "903da9f7",
   "metadata": {},
   "source": [
    "##### 1. What is the name of the feature responsible for generating Regex objects?\n",
    "     re.compile() function is responsible for generating regex objects."
   ]
  },
  {
   "cell_type": "code",
   "execution_count": 5,
   "id": "c55b262e",
   "metadata": {},
   "outputs": [
    {
     "data": {
      "text/plain": [
       "'27-09-2022'"
      ]
     },
     "execution_count": 5,
     "metadata": {},
     "output_type": "execute_result"
    }
   ],
   "source": [
    "import re\n",
    "date=re.compile(r'(\\d\\d-\\d\\d-\\d\\d\\d\\d)')#generating regex objects.\n",
    "d=date.search('today is 27-09-2022')\n",
    "d.group()"
   ]
  },
  {
   "cell_type": "markdown",
   "id": "df170b30",
   "metadata": {},
   "source": [
    "##### 2. Why do raw strings often appear in Regex objects?\n",
    "        Because backslashes not to be escaped."
   ]
  },
  {
   "cell_type": "markdown",
   "id": "61fd1c5d",
   "metadata": {},
   "source": [
    "##### 3. What is the return value of the search() method?\n",
    "      Search() method returns matched objects."
   ]
  },
  {
   "cell_type": "code",
   "execution_count": 6,
   "id": "9c4340ad",
   "metadata": {},
   "outputs": [
    {
     "data": {
      "text/plain": [
       "False"
      ]
     },
     "execution_count": 6,
     "metadata": {},
     "output_type": "execute_result"
    }
   ],
   "source": [
    "d==None #False Because search has returned matched object."
   ]
  },
  {
   "cell_type": "markdown",
   "id": "c70f62af",
   "metadata": {},
   "source": [
    "##### 4. From a Match item, how do you get the actual strings that match the pattern?\n",
    "        By using group() method."
   ]
  },
  {
   "cell_type": "code",
   "execution_count": 7,
   "id": "c28605cd",
   "metadata": {},
   "outputs": [
    {
     "data": {
      "text/plain": [
       "'27-09-2022'"
      ]
     },
     "execution_count": 7,
     "metadata": {},
     "output_type": "execute_result"
    }
   ],
   "source": [
    "d.group()"
   ]
  },
  {
   "cell_type": "markdown",
   "id": "8238760f",
   "metadata": {},
   "source": [
    "##### 5. In the regex which created from the r'(\\d\\d\\d)-(\\d\\d\\d-\\d\\d\\d\\d)', what does group zero cover? Group 2? Group 1?\n",
    "       Group 0 returns entire match.Group 1 returns first set of parantheses.Group 2 returns second set of parantheses.\n",
    "      "
   ]
  },
  {
   "cell_type": "code",
   "execution_count": 10,
   "id": "1dd5cab2",
   "metadata": {},
   "outputs": [
    {
     "data": {
      "text/plain": [
       "'445-567-2626'"
      ]
     },
     "execution_count": 10,
     "metadata": {},
     "output_type": "execute_result"
    }
   ],
   "source": [
    "object=re.compile(r'(\\d\\d\\d)-(\\d\\d\\d-\\d\\d\\d\\d)')\n",
    "data=object.search('phone 445-567-2626')\n",
    "data.group(0)"
   ]
  },
  {
   "cell_type": "code",
   "execution_count": 11,
   "id": "d668409b",
   "metadata": {},
   "outputs": [
    {
     "data": {
      "text/plain": [
       "'445'"
      ]
     },
     "execution_count": 11,
     "metadata": {},
     "output_type": "execute_result"
    }
   ],
   "source": [
    "data.group(1)"
   ]
  },
  {
   "cell_type": "code",
   "execution_count": 12,
   "id": "d84e5fc3",
   "metadata": {},
   "outputs": [
    {
     "data": {
      "text/plain": [
       "'567-2626'"
      ]
     },
     "execution_count": 12,
     "metadata": {},
     "output_type": "execute_result"
    }
   ],
   "source": [
    "data.group(2)"
   ]
  },
  {
   "cell_type": "markdown",
   "id": "cac6822d",
   "metadata": {},
   "source": [
    "##### 6. In standard expression syntax, parentheses and intervals have distinct meanings. How can you tell a regex that you want it to fit real parentheses and periods?\n",
    "      Parantheses and periods can be escaped by using backslash ie. \\( and \\) , \\."
   ]
  },
  {
   "cell_type": "code",
   "execution_count": 17,
   "id": "ff84176d",
   "metadata": {},
   "outputs": [
    {
     "data": {
      "text/plain": [
       "'(226)-334.6767'"
      ]
     },
     "execution_count": 17,
     "metadata": {},
     "output_type": "execute_result"
    }
   ],
   "source": [
    "import re\n",
    "object=re.compile(r'(\\(\\d\\d\\d\\))-(\\d\\d\\d\\.\\d\\d\\d\\d)')\n",
    "d1=object.search('this is (226)-334.6767')\n",
    "d1.group()"
   ]
  },
  {
   "cell_type": "markdown",
   "id": "4243a9b2",
   "metadata": {},
   "source": [
    "##### 7. The findall() method returns a string list or a list of string tuples. What causes it to return one of the two options?\n",
    "         If the regex has groups list of tuples of string is returned.If the regex has no groups a list of strings is returned."
   ]
  },
  {
   "cell_type": "code",
   "execution_count": 19,
   "id": "218e0802",
   "metadata": {},
   "outputs": [
    {
     "data": {
      "text/plain": [
       "[('445', '567-2626')]"
      ]
     },
     "execution_count": 19,
     "metadata": {},
     "output_type": "execute_result"
    }
   ],
   "source": [
    "object=re.compile(r'(\\d\\d\\d)-(\\d\\d\\d-\\d\\d\\d\\d)')\n",
    "data=object.findall('phone 445-567-2626')\n",
    "data"
   ]
  },
  {
   "cell_type": "code",
   "execution_count": 21,
   "id": "743f6412",
   "metadata": {},
   "outputs": [
    {
     "data": {
      "text/plain": [
       "['27-09-2022']"
      ]
     },
     "execution_count": 21,
     "metadata": {},
     "output_type": "execute_result"
    }
   ],
   "source": [
    "import re\n",
    "date=re.compile(r'(\\d\\d-\\d\\d-\\d\\d\\d\\d)')#generating regex objects.\n",
    "d=date.findall('today is 27-09-2022')\n",
    "d            "
   ]
  },
  {
   "cell_type": "markdown",
   "id": "e8843160",
   "metadata": {},
   "source": [
    "##### 8. In standard expressions, what does the | character mean?\n",
    "      The | character matches either or between two groups."
   ]
  },
  {
   "cell_type": "code",
   "execution_count": 26,
   "id": "f4f69f29",
   "metadata": {},
   "outputs": [
    {
     "data": {
      "text/plain": [
       "<re.Match object; span=(8, 11), match='56-'>"
      ]
     },
     "execution_count": 26,
     "metadata": {},
     "output_type": "execute_result"
    }
   ],
   "source": [
    "o=re.compile(r'(\\d\\d)(-|\\s|\\.)')\n",
    "d2=o.search('this is 56-')\n",
    "d2"
   ]
  },
  {
   "cell_type": "code",
   "execution_count": 28,
   "id": "16f536b6",
   "metadata": {},
   "outputs": [
    {
     "data": {
      "text/plain": [
       "<re.Match object; span=(8, 11), match='56.'>"
      ]
     },
     "execution_count": 28,
     "metadata": {},
     "output_type": "execute_result"
    }
   ],
   "source": [
    "d2=o.search('this is 56.')\n",
    "d2"
   ]
  },
  {
   "cell_type": "code",
   "execution_count": 29,
   "id": "b560e0a3",
   "metadata": {},
   "outputs": [
    {
     "data": {
      "text/plain": [
       "<re.Match object; span=(8, 11), match='56 '>"
      ]
     },
     "execution_count": 29,
     "metadata": {},
     "output_type": "execute_result"
    }
   ],
   "source": [
    "d2=o.search('this is 56 ')\n",
    "d2"
   ]
  },
  {
   "cell_type": "markdown",
   "id": "0d7631f1",
   "metadata": {},
   "source": [
    "##### 9. In regular expressions, what does  the ? character stand for?\n",
    "      ? character means 'match zero or one of the preceding group' or to nongreedy matching."
   ]
  },
  {
   "cell_type": "code",
   "execution_count": 32,
   "id": "a7131227",
   "metadata": {},
   "outputs": [
    {
     "data": {
      "text/plain": [
       "<re.Match object; span=(18, 25), match='Wowoman'>"
      ]
     },
     "execution_count": 32,
     "metadata": {},
     "output_type": "execute_result"
    }
   ],
   "source": [
    "Regex = re.compile(r'Wo(wo)?man')\n",
    "mo1 = Regex.search('The Adventures of Wowoman')\n",
    "mo1"
   ]
  },
  {
   "cell_type": "code",
   "execution_count": 33,
   "id": "26ae8329",
   "metadata": {},
   "outputs": [
    {
     "data": {
      "text/plain": [
       "<re.Match object; span=(18, 23), match='Woman'>"
      ]
     },
     "execution_count": 33,
     "metadata": {},
     "output_type": "execute_result"
    }
   ],
   "source": [
    "mo1 = Regex.search('The Adventures of Woman')\n",
    "mo1"
   ]
  },
  {
   "cell_type": "markdown",
   "id": "348e6183",
   "metadata": {},
   "source": [
    "##### 10.In regular expressions, what is the difference between the + and * characters?\n",
    "        + \"matches one or more\"\n",
    "        * \"matches zero or more\""
   ]
  },
  {
   "cell_type": "code",
   "execution_count": 35,
   "id": "9db7f0d0",
   "metadata": {},
   "outputs": [
    {
     "data": {
      "text/plain": [
       "'Woman'"
      ]
     },
     "execution_count": 35,
     "metadata": {},
     "output_type": "execute_result"
    }
   ],
   "source": [
    "Regex = re.compile(r'Wo(wo)*man')\n",
    "mo1 = Regex.search('The Power of Woman')\n",
    "mo1.group()"
   ]
  },
  {
   "cell_type": "code",
   "execution_count": 36,
   "id": "807cd9c1",
   "metadata": {},
   "outputs": [
    {
     "data": {
      "text/plain": [
       "'Wowowowoman'"
      ]
     },
     "execution_count": 36,
     "metadata": {},
     "output_type": "execute_result"
    }
   ],
   "source": [
    "mo2 = Regex.search('The Power of Wowowowoman')\n",
    "mo2.group()"
   ]
  },
  {
   "cell_type": "code",
   "execution_count": 37,
   "id": "e0fa0803",
   "metadata": {},
   "outputs": [
    {
     "ename": "AttributeError",
     "evalue": "'NoneType' object has no attribute 'group'",
     "output_type": "error",
     "traceback": [
      "\u001b[1;31m---------------------------------------------------------------------------\u001b[0m",
      "\u001b[1;31mAttributeError\u001b[0m                            Traceback (most recent call last)",
      "\u001b[1;32m~\\AppData\\Local\\Temp/ipykernel_22456/501680313.py\u001b[0m in \u001b[0;36m<module>\u001b[1;34m\u001b[0m\n\u001b[0;32m      1\u001b[0m \u001b[0mRegex\u001b[0m \u001b[1;33m=\u001b[0m \u001b[0mre\u001b[0m\u001b[1;33m.\u001b[0m\u001b[0mcompile\u001b[0m\u001b[1;33m(\u001b[0m\u001b[1;34mr'Wo(wo)+man'\u001b[0m\u001b[1;33m)\u001b[0m\u001b[1;33m\u001b[0m\u001b[1;33m\u001b[0m\u001b[0m\n\u001b[0;32m      2\u001b[0m \u001b[0mmo1\u001b[0m \u001b[1;33m=\u001b[0m \u001b[0mRegex\u001b[0m\u001b[1;33m.\u001b[0m\u001b[0msearch\u001b[0m\u001b[1;33m(\u001b[0m\u001b[1;34m'The Power of Woman'\u001b[0m\u001b[1;33m)\u001b[0m\u001b[1;33m\u001b[0m\u001b[1;33m\u001b[0m\u001b[0m\n\u001b[1;32m----> 3\u001b[1;33m \u001b[0mmo1\u001b[0m\u001b[1;33m.\u001b[0m\u001b[0mgroup\u001b[0m\u001b[1;33m(\u001b[0m\u001b[1;33m)\u001b[0m\u001b[1;33m\u001b[0m\u001b[1;33m\u001b[0m\u001b[0m\n\u001b[0m",
      "\u001b[1;31mAttributeError\u001b[0m: 'NoneType' object has no attribute 'group'"
     ]
    }
   ],
   "source": [
    "Regex = re.compile(r'Wo(wo)+man')\n",
    "mo1 = Regex.search('The Power of Woman')\n",
    "mo1.group()"
   ]
  },
  {
   "cell_type": "code",
   "execution_count": 38,
   "id": "6e49c852",
   "metadata": {},
   "outputs": [
    {
     "data": {
      "text/plain": [
       "'Wowoman'"
      ]
     },
     "execution_count": 38,
     "metadata": {},
     "output_type": "execute_result"
    }
   ],
   "source": [
    "mo1 = Regex.search('The Power of Wowoman')\n",
    "mo1.group()"
   ]
  },
  {
   "cell_type": "code",
   "execution_count": 39,
   "id": "759a88ac",
   "metadata": {},
   "outputs": [
    {
     "data": {
      "text/plain": [
       "'Wowowowowoman'"
      ]
     },
     "execution_count": 39,
     "metadata": {},
     "output_type": "execute_result"
    }
   ],
   "source": [
    "mo1 = Regex.search('The Power of Wowowowowoman')\n",
    "mo1.group()"
   ]
  },
  {
   "cell_type": "markdown",
   "id": "386c0d1d",
   "metadata": {},
   "source": [
    "##### 11. What is the difference between {4} and {4,5} in regular expression?\n",
    "       {4} matches exactly 4 instances of the preceding group.{4,5} matches between 4 and 5 ie here matches 4 or 5."
   ]
  },
  {
   "cell_type": "code",
   "execution_count": 42,
   "id": "9ae36b73",
   "metadata": {},
   "outputs": [
    {
     "data": {
      "text/plain": [
       "'Wowowowowoman'"
      ]
     },
     "execution_count": 42,
     "metadata": {},
     "output_type": "execute_result"
    }
   ],
   "source": [
    "Regex = re.compile(r'Wo(wo){4}man')\n",
    "mo1 = Regex.search('The Power of Wowowowowoman')\n",
    "mo1.group()"
   ]
  },
  {
   "cell_type": "code",
   "execution_count": 43,
   "id": "7b72efaf",
   "metadata": {},
   "outputs": [
    {
     "ename": "AttributeError",
     "evalue": "'NoneType' object has no attribute 'group'",
     "output_type": "error",
     "traceback": [
      "\u001b[1;31m---------------------------------------------------------------------------\u001b[0m",
      "\u001b[1;31mAttributeError\u001b[0m                            Traceback (most recent call last)",
      "\u001b[1;32m~\\AppData\\Local\\Temp/ipykernel_22456/787919979.py\u001b[0m in \u001b[0;36m<module>\u001b[1;34m\u001b[0m\n\u001b[0;32m      1\u001b[0m \u001b[0mmo1\u001b[0m \u001b[1;33m=\u001b[0m \u001b[0mRegex\u001b[0m\u001b[1;33m.\u001b[0m\u001b[0msearch\u001b[0m\u001b[1;33m(\u001b[0m\u001b[1;34m'The Power of Wowowowoman'\u001b[0m\u001b[1;33m)\u001b[0m\u001b[1;33m\u001b[0m\u001b[1;33m\u001b[0m\u001b[0m\n\u001b[1;32m----> 2\u001b[1;33m \u001b[0mmo1\u001b[0m\u001b[1;33m.\u001b[0m\u001b[0mgroup\u001b[0m\u001b[1;33m(\u001b[0m\u001b[1;33m)\u001b[0m\u001b[1;33m\u001b[0m\u001b[1;33m\u001b[0m\u001b[0m\n\u001b[0m",
      "\u001b[1;31mAttributeError\u001b[0m: 'NoneType' object has no attribute 'group'"
     ]
    }
   ],
   "source": [
    "mo1 = Regex.search('The Power of Wowowowoman')\n",
    "mo1.group()"
   ]
  },
  {
   "cell_type": "code",
   "execution_count": 44,
   "id": "da5347c9",
   "metadata": {},
   "outputs": [
    {
     "data": {
      "text/plain": [
       "'Wowowowowoman'"
      ]
     },
     "execution_count": 44,
     "metadata": {},
     "output_type": "execute_result"
    }
   ],
   "source": [
    "Regex = re.compile(r'Wo(wo){4,5}man')\n",
    "mo1 = Regex.search('The Power of Wowowowowoman')\n",
    "mo1.group()"
   ]
  },
  {
   "cell_type": "code",
   "execution_count": 45,
   "id": "a09d8196",
   "metadata": {},
   "outputs": [
    {
     "data": {
      "text/plain": [
       "'Wowowowowowoman'"
      ]
     },
     "execution_count": 45,
     "metadata": {},
     "output_type": "execute_result"
    }
   ],
   "source": [
    "mo1 = Regex.search('The Power of Wowowowowowoman')\n",
    "mo1.group()"
   ]
  },
  {
   "cell_type": "code",
   "execution_count": 46,
   "id": "e9f028a8",
   "metadata": {},
   "outputs": [
    {
     "ename": "AttributeError",
     "evalue": "'NoneType' object has no attribute 'group'",
     "output_type": "error",
     "traceback": [
      "\u001b[1;31m---------------------------------------------------------------------------\u001b[0m",
      "\u001b[1;31mAttributeError\u001b[0m                            Traceback (most recent call last)",
      "\u001b[1;32m~\\AppData\\Local\\Temp/ipykernel_22456/787919979.py\u001b[0m in \u001b[0;36m<module>\u001b[1;34m\u001b[0m\n\u001b[0;32m      1\u001b[0m \u001b[0mmo1\u001b[0m \u001b[1;33m=\u001b[0m \u001b[0mRegex\u001b[0m\u001b[1;33m.\u001b[0m\u001b[0msearch\u001b[0m\u001b[1;33m(\u001b[0m\u001b[1;34m'The Power of Wowowowoman'\u001b[0m\u001b[1;33m)\u001b[0m\u001b[1;33m\u001b[0m\u001b[1;33m\u001b[0m\u001b[0m\n\u001b[1;32m----> 2\u001b[1;33m \u001b[0mmo1\u001b[0m\u001b[1;33m.\u001b[0m\u001b[0mgroup\u001b[0m\u001b[1;33m(\u001b[0m\u001b[1;33m)\u001b[0m\u001b[1;33m\u001b[0m\u001b[1;33m\u001b[0m\u001b[0m\n\u001b[0m",
      "\u001b[1;31mAttributeError\u001b[0m: 'NoneType' object has no attribute 'group'"
     ]
    }
   ],
   "source": [
    "mo1 = Regex.search('The Power of Wowowowoman')\n",
    "mo1.group()"
   ]
  },
  {
   "cell_type": "markdown",
   "id": "a748f91e",
   "metadata": {},
   "source": [
    "##### 12. What do you mean by the \\d, \\w, and \\s shorthand character classes signify in regular expressions?\n",
    "        \\d matches any numeric digit from 0 to 9.\n",
    "        \\w matches any letter, numeric digit, or the underscore character. \n",
    "        \\s matches any space, tab, or newline character."
   ]
  },
  {
   "cell_type": "markdown",
   "id": "ba80ef0f",
   "metadata": {},
   "source": [
    "##### 13. What do means by \\D, \\W, and \\S shorthand character classes signify in regular expressions?\n",
    "        \\D matches any character that is not a numeric digit from 0 to 9.\n",
    "        \\W matches any character that is not a letter, numeric digit, or the underscore character.\n",
    "        \\S matches any character that is not a space, tab, or newline."
   ]
  },
  {
   "cell_type": "markdown",
   "id": "2f9b6fa5",
   "metadata": {},
   "source": [
    "##### 14. What is the difference between .* and .* ? ?\n",
    "     .* is a greedy mode.\n",
    "     .*? is a non greedy mode.    "
   ]
  },
  {
   "cell_type": "code",
   "execution_count": 73,
   "id": "bcec7f49",
   "metadata": {},
   "outputs": [
    {
     "data": {
      "text/plain": [
       "'ram'"
      ]
     },
     "execution_count": 73,
     "metadata": {},
     "output_type": "execute_result"
    }
   ],
   "source": [
    "nameregex=re.compile(r'.*')\n",
    "n=nameregex.search('ram')\n",
    "n.group()"
   ]
  },
  {
   "cell_type": "code",
   "execution_count": 74,
   "id": "34f00b65",
   "metadata": {},
   "outputs": [
    {
     "data": {
      "text/plain": [
       "''"
      ]
     },
     "execution_count": 74,
     "metadata": {},
     "output_type": "execute_result"
    }
   ],
   "source": [
    "nameregex=re.compile(r'.*?')\n",
    "n=nameregex.search('')\n",
    "n.group()"
   ]
  },
  {
   "cell_type": "markdown",
   "id": "ee7f60d0",
   "metadata": {},
   "source": [
    "##### 15. What is the syntax for matching both numbers and lowercase letters with a character class?\n",
    "      [0-9a-z] or [a-z0-9]"
   ]
  },
  {
   "cell_type": "code",
   "execution_count": 75,
   "id": "ccbd1f39",
   "metadata": {},
   "outputs": [
    {
     "data": {
      "text/plain": [
       "'1'"
      ]
     },
     "execution_count": 75,
     "metadata": {},
     "output_type": "execute_result"
    }
   ],
   "source": [
    "nameregex=re.compile(r'[a-z0-9]')\n",
    "n=nameregex.search('1')\n",
    "n.group()"
   ]
  },
  {
   "cell_type": "code",
   "execution_count": 76,
   "id": "0ccc35c4",
   "metadata": {},
   "outputs": [
    {
     "data": {
      "text/plain": [
       "'m'"
      ]
     },
     "execution_count": 76,
     "metadata": {},
     "output_type": "execute_result"
    }
   ],
   "source": [
    "nameregex=re.compile(r'[a-z0-9]')\n",
    "n=nameregex.search('m')\n",
    "n.group()"
   ]
  },
  {
   "cell_type": "markdown",
   "id": "34cb4a77",
   "metadata": {},
   "source": [
    "##### 16. What is the procedure for making a normal expression in regax case insensitive?\n",
    "     Giving re.IGNORECASE or re.I as second argument to re.compile() makes case insensitive."
   ]
  },
  {
   "cell_type": "code",
   "execution_count": 77,
   "id": "961a255f",
   "metadata": {},
   "outputs": [
    {
     "data": {
      "text/plain": [
       "'bHgJhghG'"
      ]
     },
     "execution_count": 77,
     "metadata": {},
     "output_type": "execute_result"
    }
   ],
   "source": [
    "nameregex=re.compile(r'[a-z]{8}',re.IGNORECASE)\n",
    "n=nameregex.search('bHgJhghG')\n",
    "n.group()"
   ]
  },
  {
   "cell_type": "markdown",
   "id": "764f4965",
   "metadata": {},
   "source": [
    "##### 17. What does the . character normally match? What does it match if re.DOTALL is passed as 2nd argument in re.compile()?\n",
    "      .character matches any character except newline character.If re.DOTALL is passed as 2nd argument in re.compile it will \n",
    "      also match newline character along with other characters."
   ]
  },
  {
   "cell_type": "code",
   "execution_count": 78,
   "id": "ae916b83",
   "metadata": {},
   "outputs": [
    {
     "data": {
      "text/plain": [
       "'rhhxhg'"
      ]
     },
     "execution_count": 78,
     "metadata": {},
     "output_type": "execute_result"
    }
   ],
   "source": [
    "nameregex=re.compile(r'.{6}')\n",
    "n=nameregex.search('rhhxhg')\n",
    "n.group()"
   ]
  },
  {
   "cell_type": "code",
   "execution_count": 79,
   "id": "333f893b",
   "metadata": {},
   "outputs": [
    {
     "data": {
      "text/plain": [
       "'hello\\\\nkitty'"
      ]
     },
     "execution_count": 79,
     "metadata": {},
     "output_type": "execute_result"
    }
   ],
   "source": [
    "nameregex=re.compile(r'.*',re.DOTALL)\n",
    "n=nameregex.search('hello\\\\nkitty')\n",
    "n.group()"
   ]
  },
  {
   "cell_type": "markdown",
   "id": "763a2e3f",
   "metadata": {},
   "source": [
    "##### 18. If numReg = re.compile(r'\\d+'), what will numRegex.sub('X', '11 drummers, 10 pipers, five rings, 4 hen') return?\n",
    "     returns 'X drummers,X pipers,five rings,X hen'"
   ]
  },
  {
   "cell_type": "code",
   "execution_count": 72,
   "id": "8fc8c422",
   "metadata": {},
   "outputs": [
    {
     "data": {
      "text/plain": [
       "'X drummers, X pipers, five rings, X hen'"
      ]
     },
     "execution_count": 72,
     "metadata": {},
     "output_type": "execute_result"
    }
   ],
   "source": [
    "numRegex = re.compile(r'\\d+')\n",
    "numRegex.sub('X', '11 drummers, 10 pipers, five rings, 4 hen')"
   ]
  },
  {
   "cell_type": "markdown",
   "id": "af601399",
   "metadata": {},
   "source": [
    "##### 19. What does passing re.VERBOSE as the 2nd argument to re.compile() allow to do?\n",
    "      Passing re.VERBOSE as the 2nd argument to re.compile() allows to add whitespace and comments to string passed\n",
    "      re.compile()."
   ]
  },
  {
   "cell_type": "code",
   "execution_count": 21,
   "id": "8b5f30dd",
   "metadata": {},
   "outputs": [
    {
     "data": {
      "text/plain": [
       "'vhddj6bJ2_%'"
      ]
     },
     "execution_count": 21,
     "metadata": {},
     "output_type": "execute_result"
    }
   ],
   "source": [
    "import re\n",
    "Regex = re.compile(r'([a-zA-Z0-9._%+-]+)'#username \n",
    "                   ,re.VERBOSE)\n",
    "d=Regex.search(' vhddj6bJ2_% ')\n",
    "d.group()"
   ]
  },
  {
   "cell_type": "markdown",
   "id": "bb5b22e6",
   "metadata": {},
   "source": [
    "##### 20. How would you write a regex that match a number with comma for every three digits? It must match the given following:\n",
    "'42'\n",
    "\n",
    "'1,234'\n",
    "\n",
    "'6,368,745'\n",
    "\n",
    "but not the following:\n",
    "\n",
    "'12,34,567' (which has only two digits between the commas)\n",
    "\n",
    "'1234' (which lacks commas)"
   ]
  },
  {
   "cell_type": "code",
   "execution_count": 23,
   "id": "3c2d5549",
   "metadata": {},
   "outputs": [
    {
     "data": {
      "text/plain": [
       "'42'"
      ]
     },
     "execution_count": 23,
     "metadata": {},
     "output_type": "execute_result"
    }
   ],
   "source": [
    "a=re.compile(r'^\\d{1,3}(,\\d{3})*$')\n",
    "b=a.search('42')\n",
    "b.group()"
   ]
  },
  {
   "cell_type": "code",
   "execution_count": 24,
   "id": "4698da6a",
   "metadata": {},
   "outputs": [
    {
     "data": {
      "text/plain": [
       "'1,234'"
      ]
     },
     "execution_count": 24,
     "metadata": {},
     "output_type": "execute_result"
    }
   ],
   "source": [
    "a=re.compile(r'^\\d{1,3}(,\\d{3})*$')\n",
    "b=a.search('1,234')\n",
    "b.group()"
   ]
  },
  {
   "cell_type": "code",
   "execution_count": 25,
   "id": "b4291238",
   "metadata": {},
   "outputs": [
    {
     "data": {
      "text/plain": [
       "'6,368,745'"
      ]
     },
     "execution_count": 25,
     "metadata": {},
     "output_type": "execute_result"
    }
   ],
   "source": [
    "a=re.compile(r'^\\d{1,3}(,\\d{3})*$')\n",
    "b=a.search('6,368,745')\n",
    "b.group()"
   ]
  },
  {
   "cell_type": "code",
   "execution_count": 26,
   "id": "bc29ef6e",
   "metadata": {},
   "outputs": [
    {
     "ename": "AttributeError",
     "evalue": "'NoneType' object has no attribute 'group'",
     "output_type": "error",
     "traceback": [
      "\u001b[1;31m---------------------------------------------------------------------------\u001b[0m",
      "\u001b[1;31mAttributeError\u001b[0m                            Traceback (most recent call last)",
      "\u001b[1;32m~\\AppData\\Local\\Temp/ipykernel_7680/487514038.py\u001b[0m in \u001b[0;36m<module>\u001b[1;34m\u001b[0m\n\u001b[0;32m      1\u001b[0m \u001b[0ma\u001b[0m\u001b[1;33m=\u001b[0m\u001b[0mre\u001b[0m\u001b[1;33m.\u001b[0m\u001b[0mcompile\u001b[0m\u001b[1;33m(\u001b[0m\u001b[1;34mr'^\\d{1,3}(,\\d{3})*$'\u001b[0m\u001b[1;33m)\u001b[0m\u001b[1;33m\u001b[0m\u001b[1;33m\u001b[0m\u001b[0m\n\u001b[0;32m      2\u001b[0m \u001b[0mb\u001b[0m\u001b[1;33m=\u001b[0m\u001b[0ma\u001b[0m\u001b[1;33m.\u001b[0m\u001b[0msearch\u001b[0m\u001b[1;33m(\u001b[0m\u001b[1;34m'12,34,567'\u001b[0m\u001b[1;33m)\u001b[0m\u001b[1;33m\u001b[0m\u001b[1;33m\u001b[0m\u001b[0m\n\u001b[1;32m----> 3\u001b[1;33m \u001b[0mb\u001b[0m\u001b[1;33m.\u001b[0m\u001b[0mgroup\u001b[0m\u001b[1;33m(\u001b[0m\u001b[1;33m)\u001b[0m\u001b[1;33m\u001b[0m\u001b[1;33m\u001b[0m\u001b[0m\n\u001b[0m",
      "\u001b[1;31mAttributeError\u001b[0m: 'NoneType' object has no attribute 'group'"
     ]
    }
   ],
   "source": [
    "a=re.compile(r'^\\d{1,3}(,\\d{3})*$')\n",
    "b=a.search('12,34,567')\n",
    "b.group()"
   ]
  },
  {
   "cell_type": "code",
   "execution_count": 27,
   "id": "9008b6d8",
   "metadata": {},
   "outputs": [
    {
     "ename": "AttributeError",
     "evalue": "'NoneType' object has no attribute 'group'",
     "output_type": "error",
     "traceback": [
      "\u001b[1;31m---------------------------------------------------------------------------\u001b[0m",
      "\u001b[1;31mAttributeError\u001b[0m                            Traceback (most recent call last)",
      "\u001b[1;32m~\\AppData\\Local\\Temp/ipykernel_7680/1513453119.py\u001b[0m in \u001b[0;36m<module>\u001b[1;34m\u001b[0m\n\u001b[0;32m      1\u001b[0m \u001b[0ma\u001b[0m\u001b[1;33m=\u001b[0m\u001b[0mre\u001b[0m\u001b[1;33m.\u001b[0m\u001b[0mcompile\u001b[0m\u001b[1;33m(\u001b[0m\u001b[1;34mr'^\\d{1,3}(,\\d{3})*$'\u001b[0m\u001b[1;33m)\u001b[0m\u001b[1;33m\u001b[0m\u001b[1;33m\u001b[0m\u001b[0m\n\u001b[0;32m      2\u001b[0m \u001b[0mb\u001b[0m\u001b[1;33m=\u001b[0m\u001b[0ma\u001b[0m\u001b[1;33m.\u001b[0m\u001b[0msearch\u001b[0m\u001b[1;33m(\u001b[0m\u001b[1;34m'1234'\u001b[0m\u001b[1;33m)\u001b[0m\u001b[1;33m\u001b[0m\u001b[1;33m\u001b[0m\u001b[0m\n\u001b[1;32m----> 3\u001b[1;33m \u001b[0mb\u001b[0m\u001b[1;33m.\u001b[0m\u001b[0mgroup\u001b[0m\u001b[1;33m(\u001b[0m\u001b[1;33m)\u001b[0m\u001b[1;33m\u001b[0m\u001b[1;33m\u001b[0m\u001b[0m\n\u001b[0m",
      "\u001b[1;31mAttributeError\u001b[0m: 'NoneType' object has no attribute 'group'"
     ]
    }
   ],
   "source": [
    "a=re.compile(r'^\\d{1,3}(,\\d{3})*$')\n",
    "b=a.search('1234')\n",
    "b.group()"
   ]
  },
  {
   "cell_type": "markdown",
   "id": "54ed2b6b",
   "metadata": {},
   "source": [
    "##### 21. How would you write a regex that matches the full name of someone whose last name is Watanabe? You can assume that the first name that comes before it will always be one word that begins with a capital letter. The regex must match the following:\n",
    "'Haruto Watanabe'\n",
    "\n",
    "'Alice Watanabe'\n",
    "\n",
    "'RoboCop Watanabe'\n",
    "\n",
    "but not the following:\n",
    "\n",
    "'haruto Watanabe' (where the first name is not capitalized)\n",
    "\n",
    "'Mr. Watanabe' (where the preceding word has a nonletter character)\n",
    "\n",
    "'Watanabe' (which has no first name)\n",
    "\n",
    "'Haruto watanabe' (where Watanabe is not capitalized)    "
   ]
  },
  {
   "cell_type": "code",
   "execution_count": 30,
   "id": "633965a6",
   "metadata": {},
   "outputs": [
    {
     "data": {
      "text/plain": [
       "'Alice Watanabe'"
      ]
     },
     "execution_count": 30,
     "metadata": {},
     "output_type": "execute_result"
    }
   ],
   "source": [
    "a=re.compile(r'[A-Z][a-z]*\\sWatanabe')\n",
    "b=a.search('This is Alice Watanabe')\n",
    "b.group()"
   ]
  },
  {
   "cell_type": "code",
   "execution_count": 31,
   "id": "2a4c04b2",
   "metadata": {},
   "outputs": [
    {
     "data": {
      "text/plain": [
       "'Cop Watanabe'"
      ]
     },
     "execution_count": 31,
     "metadata": {},
     "output_type": "execute_result"
    }
   ],
   "source": [
    "a=re.compile(r'[A-Z][a-z]*\\sWatanabe')\n",
    "b=a.search('This is RoboCop Watanabe')\n",
    "b.group()"
   ]
  },
  {
   "cell_type": "code",
   "execution_count": 32,
   "id": "504a8ca2",
   "metadata": {},
   "outputs": [
    {
     "ename": "AttributeError",
     "evalue": "'NoneType' object has no attribute 'group'",
     "output_type": "error",
     "traceback": [
      "\u001b[1;31m---------------------------------------------------------------------------\u001b[0m",
      "\u001b[1;31mAttributeError\u001b[0m                            Traceback (most recent call last)",
      "\u001b[1;32m~\\AppData\\Local\\Temp/ipykernel_7680/4031186711.py\u001b[0m in \u001b[0;36m<module>\u001b[1;34m\u001b[0m\n\u001b[0;32m      1\u001b[0m \u001b[0ma\u001b[0m\u001b[1;33m=\u001b[0m\u001b[0mre\u001b[0m\u001b[1;33m.\u001b[0m\u001b[0mcompile\u001b[0m\u001b[1;33m(\u001b[0m\u001b[1;34mr'[A-Z][a-z]*\\sWatanabe'\u001b[0m\u001b[1;33m)\u001b[0m\u001b[1;33m\u001b[0m\u001b[1;33m\u001b[0m\u001b[0m\n\u001b[0;32m      2\u001b[0m \u001b[0mb\u001b[0m\u001b[1;33m=\u001b[0m\u001b[0ma\u001b[0m\u001b[1;33m.\u001b[0m\u001b[0msearch\u001b[0m\u001b[1;33m(\u001b[0m\u001b[1;34m'This is Mr. Watanabe'\u001b[0m\u001b[1;33m)\u001b[0m\u001b[1;33m\u001b[0m\u001b[1;33m\u001b[0m\u001b[0m\n\u001b[1;32m----> 3\u001b[1;33m \u001b[0mb\u001b[0m\u001b[1;33m.\u001b[0m\u001b[0mgroup\u001b[0m\u001b[1;33m(\u001b[0m\u001b[1;33m)\u001b[0m\u001b[1;33m\u001b[0m\u001b[1;33m\u001b[0m\u001b[0m\n\u001b[0m",
      "\u001b[1;31mAttributeError\u001b[0m: 'NoneType' object has no attribute 'group'"
     ]
    }
   ],
   "source": [
    "a=re.compile(r'[A-Z][a-z]*\\sWatanabe')\n",
    "b=a.search('This is Mr. Watanabe')\n",
    "b.group()"
   ]
  },
  {
   "cell_type": "code",
   "execution_count": 33,
   "id": "9a8baa92",
   "metadata": {},
   "outputs": [
    {
     "ename": "AttributeError",
     "evalue": "'NoneType' object has no attribute 'group'",
     "output_type": "error",
     "traceback": [
      "\u001b[1;31m---------------------------------------------------------------------------\u001b[0m",
      "\u001b[1;31mAttributeError\u001b[0m                            Traceback (most recent call last)",
      "\u001b[1;32m~\\AppData\\Local\\Temp/ipykernel_7680/868466058.py\u001b[0m in \u001b[0;36m<module>\u001b[1;34m\u001b[0m\n\u001b[0;32m      1\u001b[0m \u001b[0ma\u001b[0m\u001b[1;33m=\u001b[0m\u001b[0mre\u001b[0m\u001b[1;33m.\u001b[0m\u001b[0mcompile\u001b[0m\u001b[1;33m(\u001b[0m\u001b[1;34mr'[A-Z][a-z]*\\sWatanabe'\u001b[0m\u001b[1;33m)\u001b[0m\u001b[1;33m\u001b[0m\u001b[1;33m\u001b[0m\u001b[0m\n\u001b[0;32m      2\u001b[0m \u001b[0mb\u001b[0m\u001b[1;33m=\u001b[0m\u001b[0ma\u001b[0m\u001b[1;33m.\u001b[0m\u001b[0msearch\u001b[0m\u001b[1;33m(\u001b[0m\u001b[1;34m'This is Alice watanabe'\u001b[0m\u001b[1;33m)\u001b[0m\u001b[1;33m\u001b[0m\u001b[1;33m\u001b[0m\u001b[0m\n\u001b[1;32m----> 3\u001b[1;33m \u001b[0mb\u001b[0m\u001b[1;33m.\u001b[0m\u001b[0mgroup\u001b[0m\u001b[1;33m(\u001b[0m\u001b[1;33m)\u001b[0m\u001b[1;33m\u001b[0m\u001b[1;33m\u001b[0m\u001b[0m\n\u001b[0m",
      "\u001b[1;31mAttributeError\u001b[0m: 'NoneType' object has no attribute 'group'"
     ]
    }
   ],
   "source": [
    "a=re.compile(r'[A-Z][a-z]*\\sWatanabe')\n",
    "b=a.search('This is Alice watanabe')\n",
    "b.group()"
   ]
  },
  {
   "cell_type": "markdown",
   "id": "242a5580",
   "metadata": {},
   "source": [
    "##### 22. How would you write a regex that matches a sentence where the first word is either Alice, Bob, or Carol; the second word is either eats, pets, or throws; the third word is apples, cats, or baseballs; and the sentence ends with a period? This regex should be case-insensitive. It must match the following:\n",
    "'Alice eats apples.'\n",
    "\n",
    "'Bob pets cats.'\n",
    "\n",
    "'Carol throws baseballs.'\n",
    "\n",
    "'Alice throws Apples.'\n",
    "\n",
    "'BOB EATS CATS.'\n",
    "\n",
    "but not the following:\n",
    "\n",
    "'RoboCop eats apples.'\n",
    "\n",
    "'ALICE THROWS FOOTBALLS.'\n",
    "\n",
    "'Carol eats 7 cats.'"
   ]
  },
  {
   "cell_type": "code",
   "execution_count": 40,
   "id": "d6971f88",
   "metadata": {},
   "outputs": [
    {
     "data": {
      "text/plain": [
       "'Alice eats apples.'"
      ]
     },
     "execution_count": 40,
     "metadata": {},
     "output_type": "execute_result"
    }
   ],
   "source": [
    "a=re.compile(r'(Alice|Bob|Carol)\\s(eats|pets|throws)\\s(apples|cats|baseballs)\\.',re.IGNORECASE)\n",
    "b=a.search('Alice eats apples.')\n",
    "b.group()"
   ]
  },
  {
   "cell_type": "code",
   "execution_count": 43,
   "id": "bfb881c5",
   "metadata": {},
   "outputs": [
    {
     "data": {
      "text/plain": [
       "'BOB EATS CATS.'"
      ]
     },
     "execution_count": 43,
     "metadata": {},
     "output_type": "execute_result"
    }
   ],
   "source": [
    "a=re.compile(r'(Alice|Bob|Carol)\\s(eats|pets|throws)\\s(apples|cats|baseballs)\\.',re.IGNORECASE)\n",
    "b=a.search('BOB EATS CATS.')\n",
    "b.group()"
   ]
  },
  {
   "cell_type": "code",
   "execution_count": 45,
   "id": "c9ffce79",
   "metadata": {},
   "outputs": [
    {
     "ename": "AttributeError",
     "evalue": "'NoneType' object has no attribute 'group'",
     "output_type": "error",
     "traceback": [
      "\u001b[1;31m---------------------------------------------------------------------------\u001b[0m",
      "\u001b[1;31mAttributeError\u001b[0m                            Traceback (most recent call last)",
      "\u001b[1;32m~\\AppData\\Local\\Temp/ipykernel_7680/3205599844.py\u001b[0m in \u001b[0;36m<module>\u001b[1;34m\u001b[0m\n\u001b[0;32m      1\u001b[0m \u001b[0ma\u001b[0m\u001b[1;33m=\u001b[0m\u001b[0mre\u001b[0m\u001b[1;33m.\u001b[0m\u001b[0mcompile\u001b[0m\u001b[1;33m(\u001b[0m\u001b[1;34mr'(Alice|Bob|Carol)\\s(eats|pets|throws)\\s(apples|cats|baseballs)\\.'\u001b[0m\u001b[1;33m,\u001b[0m\u001b[0mre\u001b[0m\u001b[1;33m.\u001b[0m\u001b[0mIGNORECASE\u001b[0m\u001b[1;33m)\u001b[0m\u001b[1;33m\u001b[0m\u001b[1;33m\u001b[0m\u001b[0m\n\u001b[0;32m      2\u001b[0m \u001b[0mb\u001b[0m\u001b[1;33m=\u001b[0m\u001b[0ma\u001b[0m\u001b[1;33m.\u001b[0m\u001b[0msearch\u001b[0m\u001b[1;33m(\u001b[0m\u001b[1;34m'RoboCop eats apples.'\u001b[0m\u001b[1;33m)\u001b[0m\u001b[1;33m\u001b[0m\u001b[1;33m\u001b[0m\u001b[0m\n\u001b[1;32m----> 3\u001b[1;33m \u001b[0mb\u001b[0m\u001b[1;33m.\u001b[0m\u001b[0mgroup\u001b[0m\u001b[1;33m(\u001b[0m\u001b[1;33m)\u001b[0m\u001b[1;33m\u001b[0m\u001b[1;33m\u001b[0m\u001b[0m\n\u001b[0m",
      "\u001b[1;31mAttributeError\u001b[0m: 'NoneType' object has no attribute 'group'"
     ]
    }
   ],
   "source": [
    "a=re.compile(r'(Alice|Bob|Carol)\\s(eats|pets|throws)\\s(apples|cats|baseballs)\\.',re.IGNORECASE)\n",
    "b=a.search('RoboCop eats apples.')\n",
    "b.group()"
   ]
  },
  {
   "cell_type": "code",
   "execution_count": 46,
   "id": "f9672c59",
   "metadata": {},
   "outputs": [
    {
     "ename": "AttributeError",
     "evalue": "'NoneType' object has no attribute 'group'",
     "output_type": "error",
     "traceback": [
      "\u001b[1;31m---------------------------------------------------------------------------\u001b[0m",
      "\u001b[1;31mAttributeError\u001b[0m                            Traceback (most recent call last)",
      "\u001b[1;32m~\\AppData\\Local\\Temp/ipykernel_7680/3093319212.py\u001b[0m in \u001b[0;36m<module>\u001b[1;34m\u001b[0m\n\u001b[0;32m      1\u001b[0m \u001b[0ma\u001b[0m\u001b[1;33m=\u001b[0m\u001b[0mre\u001b[0m\u001b[1;33m.\u001b[0m\u001b[0mcompile\u001b[0m\u001b[1;33m(\u001b[0m\u001b[1;34mr'(Alice|Bob|Carol)\\s(eats|pets|throws)\\s(apples|cats|baseballs)\\.'\u001b[0m\u001b[1;33m,\u001b[0m\u001b[0mre\u001b[0m\u001b[1;33m.\u001b[0m\u001b[0mIGNORECASE\u001b[0m\u001b[1;33m)\u001b[0m\u001b[1;33m\u001b[0m\u001b[1;33m\u001b[0m\u001b[0m\n\u001b[0;32m      2\u001b[0m \u001b[0mb\u001b[0m\u001b[1;33m=\u001b[0m\u001b[0ma\u001b[0m\u001b[1;33m.\u001b[0m\u001b[0msearch\u001b[0m\u001b[1;33m(\u001b[0m\u001b[1;34m'Carol eats 7 cats.'\u001b[0m\u001b[1;33m)\u001b[0m\u001b[1;33m\u001b[0m\u001b[1;33m\u001b[0m\u001b[0m\n\u001b[1;32m----> 3\u001b[1;33m \u001b[0mb\u001b[0m\u001b[1;33m.\u001b[0m\u001b[0mgroup\u001b[0m\u001b[1;33m(\u001b[0m\u001b[1;33m)\u001b[0m\u001b[1;33m\u001b[0m\u001b[1;33m\u001b[0m\u001b[0m\n\u001b[0m",
      "\u001b[1;31mAttributeError\u001b[0m: 'NoneType' object has no attribute 'group'"
     ]
    }
   ],
   "source": [
    "a=re.compile(r'(Alice|Bob|Carol)\\s(eats|pets|throws)\\s(apples|cats|baseballs)\\.',re.IGNORECASE)\n",
    "b=a.search('Carol eats 7 cats.')\n",
    "b.group()"
   ]
  },
  {
   "cell_type": "code",
   "execution_count": 47,
   "id": "00ce8867",
   "metadata": {},
   "outputs": [
    {
     "ename": "AttributeError",
     "evalue": "'NoneType' object has no attribute 'group'",
     "output_type": "error",
     "traceback": [
      "\u001b[1;31m---------------------------------------------------------------------------\u001b[0m",
      "\u001b[1;31mAttributeError\u001b[0m                            Traceback (most recent call last)",
      "\u001b[1;32m~\\AppData\\Local\\Temp/ipykernel_7680/2808708249.py\u001b[0m in \u001b[0;36m<module>\u001b[1;34m\u001b[0m\n\u001b[0;32m      1\u001b[0m \u001b[0ma\u001b[0m\u001b[1;33m=\u001b[0m\u001b[0mre\u001b[0m\u001b[1;33m.\u001b[0m\u001b[0mcompile\u001b[0m\u001b[1;33m(\u001b[0m\u001b[1;34mr'(Alice|Bob|Carol)\\s(eats|pets|throws)\\s(apples|cats|baseballs)\\.'\u001b[0m\u001b[1;33m,\u001b[0m\u001b[0mre\u001b[0m\u001b[1;33m.\u001b[0m\u001b[0mIGNORECASE\u001b[0m\u001b[1;33m)\u001b[0m\u001b[1;33m\u001b[0m\u001b[1;33m\u001b[0m\u001b[0m\n\u001b[0;32m      2\u001b[0m \u001b[0mb\u001b[0m\u001b[1;33m=\u001b[0m\u001b[0ma\u001b[0m\u001b[1;33m.\u001b[0m\u001b[0msearch\u001b[0m\u001b[1;33m(\u001b[0m\u001b[1;34m'ALICE THROWS FOOTBALLS.'\u001b[0m\u001b[1;33m)\u001b[0m\u001b[1;33m\u001b[0m\u001b[1;33m\u001b[0m\u001b[0m\n\u001b[1;32m----> 3\u001b[1;33m \u001b[0mb\u001b[0m\u001b[1;33m.\u001b[0m\u001b[0mgroup\u001b[0m\u001b[1;33m(\u001b[0m\u001b[1;33m)\u001b[0m\u001b[1;33m\u001b[0m\u001b[1;33m\u001b[0m\u001b[0m\n\u001b[0m",
      "\u001b[1;31mAttributeError\u001b[0m: 'NoneType' object has no attribute 'group'"
     ]
    }
   ],
   "source": [
    "a=re.compile(r'(Alice|Bob|Carol)\\s(eats|pets|throws)\\s(apples|cats|baseballs)\\.',re.IGNORECASE)\n",
    "b=a.search('ALICE THROWS FOOTBALLS.')\n",
    "b.group()"
   ]
  },
  {
   "cell_type": "code",
   "execution_count": 48,
   "id": "80c37b94",
   "metadata": {},
   "outputs": [
    {
     "data": {
      "text/plain": [
       "'Carol throws baseballs.'"
      ]
     },
     "execution_count": 48,
     "metadata": {},
     "output_type": "execute_result"
    }
   ],
   "source": [
    "a=re.compile(r'(Alice|Bob|Carol)\\s(eats|pets|throws)\\s(apples|cats|baseballs)\\.',re.IGNORECASE)\n",
    "b=a.search('Carol throws baseballs.')\n",
    "b.group()"
   ]
  },
  {
   "cell_type": "code",
   "execution_count": null,
   "id": "fb5b612b",
   "metadata": {},
   "outputs": [],
   "source": []
  },
  {
   "cell_type": "code",
   "execution_count": null,
   "id": "11e159aa",
   "metadata": {},
   "outputs": [],
   "source": []
  }
 ],
 "metadata": {
  "kernelspec": {
   "display_name": "Python 3 (ipykernel)",
   "language": "python",
   "name": "python3"
  },
  "language_info": {
   "codemirror_mode": {
    "name": "ipython",
    "version": 3
   },
   "file_extension": ".py",
   "mimetype": "text/x-python",
   "name": "python",
   "nbconvert_exporter": "python",
   "pygments_lexer": "ipython3",
   "version": "3.9.7"
  }
 },
 "nbformat": 4,
 "nbformat_minor": 5
}
