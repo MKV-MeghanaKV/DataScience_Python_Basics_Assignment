{
 "cells": [
  {
   "cell_type": "markdown",
   "id": "73a9a3e0",
   "metadata": {},
   "source": [
    "# Assignment 6\n"
   ]
  },
  {
   "cell_type": "markdown",
   "id": "b11f2275",
   "metadata": {},
   "source": [
    "##### 1. What are escape characters, and how do you use them?\n",
    "      An escape character lets you use characters that are otherwise impossible to \n",
    "      put into a string. An escape character consists of a backslash (\\) followed \n",
    "      by the character you want to add to the string.\n",
    "      \\' Single quote\n",
    "      \\\" Double quote\n",
    "      \\t Tab\n",
    "      \\n Newline (line break)\n",
    "      \\\\ Backslash"
   ]
  },
  {
   "cell_type": "code",
   "execution_count": 4,
   "id": "a5b71dd5",
   "metadata": {},
   "outputs": [
    {
     "ename": "SyntaxError",
     "evalue": "invalid syntax (Temp/ipykernel_10904/266919027.py, line 1)",
     "output_type": "error",
     "traceback": [
      "\u001b[1;36m  File \u001b[1;32m\"C:\\Users\\MEGHANA\\AppData\\Local\\Temp/ipykernel_10904/266919027.py\"\u001b[1;36m, line \u001b[1;32m1\u001b[0m\n\u001b[1;33m    print('This is alice's book')\u001b[0m\n\u001b[1;37m                         ^\u001b[0m\n\u001b[1;31mSyntaxError\u001b[0m\u001b[1;31m:\u001b[0m invalid syntax\n"
     ]
    }
   ],
   "source": [
    "print('This is alice's book')"
   ]
  },
  {
   "cell_type": "code",
   "execution_count": 5,
   "id": "1de0f7dd",
   "metadata": {},
   "outputs": [
    {
     "name": "stdout",
     "output_type": "stream",
     "text": [
      "This is alice's book\n"
     ]
    }
   ],
   "source": [
    "print('This is alice\\'s book')"
   ]
  },
  {
   "cell_type": "code",
   "execution_count": 6,
   "id": "e61be044",
   "metadata": {},
   "outputs": [
    {
     "name": "stdout",
     "output_type": "stream",
     "text": [
      "This is alice\t book\n"
     ]
    }
   ],
   "source": [
    "print('This is alice\\t book')"
   ]
  },
  {
   "cell_type": "code",
   "execution_count": 8,
   "id": "2ba9bfd5",
   "metadata": {},
   "outputs": [
    {
     "name": "stdout",
     "output_type": "stream",
     "text": [
      "This is alice's book.\n",
      " This is my book\n"
     ]
    }
   ],
   "source": [
    "print('This is alice\\'s book.\\n This is my book')"
   ]
  },
  {
   "cell_type": "code",
   "execution_count": 9,
   "id": "25c16f56",
   "metadata": {},
   "outputs": [
    {
     "name": "stdout",
     "output_type": "stream",
     "text": [
      "apple\\orange\\grapes\n"
     ]
    }
   ],
   "source": [
    "print('apple\\\\orange\\\\grapes')"
   ]
  },
  {
   "cell_type": "markdown",
   "id": "9715e7ec",
   "metadata": {},
   "source": [
    "##### 2. What do the escape characters n and t stand for?\n",
    "       n-new line\n",
    "       t-tab"
   ]
  },
  {
   "cell_type": "code",
   "execution_count": 1,
   "id": "3bb60a36",
   "metadata": {},
   "outputs": [
    {
     "name": "stdout",
     "output_type": "stream",
     "text": [
      "This is alice's book.\n",
      " This is my book\n"
     ]
    }
   ],
   "source": [
    "print('This is alice\\'s book.\\n This is my book')"
   ]
  },
  {
   "cell_type": "code",
   "execution_count": 2,
   "id": "0a3cce18",
   "metadata": {},
   "outputs": [
    {
     "name": "stdout",
     "output_type": "stream",
     "text": [
      "This is alice\t book\n"
     ]
    }
   ],
   "source": [
    "print('This is alice\\t book')"
   ]
  },
  {
   "cell_type": "markdown",
   "id": "80f7acd8",
   "metadata": {},
   "source": [
    "##### 3. What is the way to include backslash characters in a string?\n",
    "      The \\\\ escape character is used to represent backslash character in string."
   ]
  },
  {
   "cell_type": "code",
   "execution_count": 3,
   "id": "548cc51c",
   "metadata": {},
   "outputs": [
    {
     "name": "stdout",
     "output_type": "stream",
     "text": [
      "apple\\orange\\grapes\n"
     ]
    }
   ],
   "source": [
    "print('apple\\\\orange\\\\grapes')"
   ]
  },
  {
   "cell_type": "markdown",
   "id": "a3a806a6",
   "metadata": {},
   "source": [
    "##### 4. The string \"Howl's Moving Castle\" is a correct value. Why isn't the single quote character in the word Howl's not escaped a problem?\n",
    "       Because of using double quotes to mark beginning and end of the string."
   ]
  },
  {
   "cell_type": "code",
   "execution_count": 5,
   "id": "f5b84e1a",
   "metadata": {},
   "outputs": [
    {
     "name": "stdout",
     "output_type": "stream",
     "text": [
      "Howl's Moving Castle\n"
     ]
    }
   ],
   "source": [
    "print(\"Howl's Moving Castle\")"
   ]
  },
  {
   "cell_type": "markdown",
   "id": "97d01bcc",
   "metadata": {},
   "source": [
    "##### 5. How do you write a string of newlines if you don't want to use the n character?\n",
    "       Multiline string allows to use newlines in string without using n character."
   ]
  },
  {
   "cell_type": "code",
   "execution_count": 7,
   "id": "c8b4372e",
   "metadata": {},
   "outputs": [
    {
     "name": "stdout",
     "output_type": "stream",
     "text": [
      "This is the best way to learn python.\n",
      "Practice More and More to exceed\n"
     ]
    }
   ],
   "source": [
    "print(\"\"\"This is the best way to learn python.\n",
    "Practice More and More to exceed\"\"\")"
   ]
  },
  {
   "cell_type": "markdown",
   "id": "0c5466ba",
   "metadata": {},
   "source": [
    "##### 6. What are the values of the given expressions?\n",
    "'Hello, world!'[1]\n",
    "'Hello, world!'[0:5]\n",
    "'Hello, world!'[:5]\n",
    "'Hello, world!'[3:]"
   ]
  },
  {
   "cell_type": "code",
   "execution_count": 8,
   "id": "da209d5f",
   "metadata": {},
   "outputs": [
    {
     "data": {
      "text/plain": [
       "'e'"
      ]
     },
     "execution_count": 8,
     "metadata": {},
     "output_type": "execute_result"
    }
   ],
   "source": [
    "'Hello, world!'[1]"
   ]
  },
  {
   "cell_type": "code",
   "execution_count": 9,
   "id": "fd13fe97",
   "metadata": {},
   "outputs": [
    {
     "data": {
      "text/plain": [
       "'Hello'"
      ]
     },
     "execution_count": 9,
     "metadata": {},
     "output_type": "execute_result"
    }
   ],
   "source": [
    "'Hello, world!'[0:5]"
   ]
  },
  {
   "cell_type": "code",
   "execution_count": 10,
   "id": "9271688c",
   "metadata": {},
   "outputs": [
    {
     "data": {
      "text/plain": [
       "'Hello'"
      ]
     },
     "execution_count": 10,
     "metadata": {},
     "output_type": "execute_result"
    }
   ],
   "source": [
    "'Hello, world!'[:5]"
   ]
  },
  {
   "cell_type": "code",
   "execution_count": 11,
   "id": "2a14e789",
   "metadata": {},
   "outputs": [
    {
     "data": {
      "text/plain": [
       "'lo, world!'"
      ]
     },
     "execution_count": 11,
     "metadata": {},
     "output_type": "execute_result"
    }
   ],
   "source": [
    "'Hello, world!'[3:]"
   ]
  },
  {
   "cell_type": "markdown",
   "id": "11a314c3",
   "metadata": {},
   "source": [
    "##### 7. What are the values of the following expressions?\n",
    "'Hello'.upper()\n",
    "'Hello'.upper().isupper()\n",
    "'Hello'.upper().lower()"
   ]
  },
  {
   "cell_type": "code",
   "execution_count": 12,
   "id": "83ece783",
   "metadata": {},
   "outputs": [
    {
     "data": {
      "text/plain": [
       "'HELLO'"
      ]
     },
     "execution_count": 12,
     "metadata": {},
     "output_type": "execute_result"
    }
   ],
   "source": [
    "'Hello'.upper()"
   ]
  },
  {
   "cell_type": "code",
   "execution_count": 13,
   "id": "a49e298a",
   "metadata": {},
   "outputs": [
    {
     "data": {
      "text/plain": [
       "True"
      ]
     },
     "execution_count": 13,
     "metadata": {},
     "output_type": "execute_result"
    }
   ],
   "source": [
    "'Hello'.upper().isupper()"
   ]
  },
  {
   "cell_type": "code",
   "execution_count": 14,
   "id": "7233ba3c",
   "metadata": {},
   "outputs": [
    {
     "data": {
      "text/plain": [
       "'hello'"
      ]
     },
     "execution_count": 14,
     "metadata": {},
     "output_type": "execute_result"
    }
   ],
   "source": [
    "'Hello'.upper().lower()"
   ]
  },
  {
   "cell_type": "markdown",
   "id": "0035cd13",
   "metadata": {},
   "source": [
    "##### 8. What are the values of the following expressions?\n",
    "'Remember, remember, the fifth of July.'.split()\n",
    "'-'.join('There can only one.'.split())"
   ]
  },
  {
   "cell_type": "code",
   "execution_count": 19,
   "id": "d271cddf",
   "metadata": {},
   "outputs": [
    {
     "data": {
      "text/plain": [
       "['Remember,', 'remember,', 'the', 'fifth', 'of', 'July.']"
      ]
     },
     "execution_count": 19,
     "metadata": {},
     "output_type": "execute_result"
    }
   ],
   "source": [
    "'Remember, remember, the fifth of July.'.split()"
   ]
  },
  {
   "cell_type": "code",
   "execution_count": 20,
   "id": "2e621483",
   "metadata": {},
   "outputs": [
    {
     "data": {
      "text/plain": [
       "'There-can-only-one.'"
      ]
     },
     "execution_count": 20,
     "metadata": {},
     "output_type": "execute_result"
    }
   ],
   "source": [
    "'-'.join('There can only one.'.split())"
   ]
  },
  {
   "cell_type": "markdown",
   "id": "9a6c7d9e",
   "metadata": {},
   "source": [
    "##### 9. What are the methods for right-justifying, left-justifying, and centering a string?\n",
    "        rjust() for right-justifying.\n",
    "        ljust() for left-justifying.\n",
    "        center for centering."
   ]
  },
  {
   "cell_type": "code",
   "execution_count": 21,
   "id": "0324226d",
   "metadata": {},
   "outputs": [
    {
     "data": {
      "text/plain": [
       "'         hello,world'"
      ]
     },
     "execution_count": 21,
     "metadata": {},
     "output_type": "execute_result"
    }
   ],
   "source": [
    "'hello,world'.rjust(20)"
   ]
  },
  {
   "cell_type": "code",
   "execution_count": 24,
   "id": "c2e7ea36",
   "metadata": {},
   "outputs": [
    {
     "data": {
      "text/plain": [
       "'*********hello,world'"
      ]
     },
     "execution_count": 24,
     "metadata": {},
     "output_type": "execute_result"
    }
   ],
   "source": [
    "'hello,world'.rjust(20,'*')"
   ]
  },
  {
   "cell_type": "code",
   "execution_count": 25,
   "id": "548b49c2",
   "metadata": {},
   "outputs": [
    {
     "data": {
      "text/plain": [
       "'hello,world         '"
      ]
     },
     "execution_count": 25,
     "metadata": {},
     "output_type": "execute_result"
    }
   ],
   "source": [
    "'hello,world'.ljust(20)"
   ]
  },
  {
   "cell_type": "code",
   "execution_count": 26,
   "id": "eb67bcb3",
   "metadata": {},
   "outputs": [
    {
     "data": {
      "text/plain": [
       "'hello,world*********'"
      ]
     },
     "execution_count": 26,
     "metadata": {},
     "output_type": "execute_result"
    }
   ],
   "source": [
    "'hello,world'.ljust(20,'*')"
   ]
  },
  {
   "cell_type": "code",
   "execution_count": 27,
   "id": "10b3c5d4",
   "metadata": {},
   "outputs": [
    {
     "data": {
      "text/plain": [
       "'    hello,world     '"
      ]
     },
     "execution_count": 27,
     "metadata": {},
     "output_type": "execute_result"
    }
   ],
   "source": [
    "'hello,world'.center(20)"
   ]
  },
  {
   "cell_type": "code",
   "execution_count": 28,
   "id": "514b289b",
   "metadata": {},
   "outputs": [
    {
     "data": {
      "text/plain": [
       "'++++hello,world+++++'"
      ]
     },
     "execution_count": 28,
     "metadata": {},
     "output_type": "execute_result"
    }
   ],
   "source": [
    "'hello,world'.center(20,'+')"
   ]
  },
  {
   "cell_type": "code",
   "execution_count": 29,
   "id": "61adcda3",
   "metadata": {},
   "outputs": [
    {
     "data": {
      "text/plain": [
       "'====hello,world====='"
      ]
     },
     "execution_count": 29,
     "metadata": {},
     "output_type": "execute_result"
    }
   ],
   "source": [
    "'hello,world'.center(20,'=')"
   ]
  },
  {
   "cell_type": "markdown",
   "id": "dd7788de",
   "metadata": {},
   "source": [
    "##### 10. What is the best way to remove whitespace characters from the start or end?\n",
    "      Using strip()  function is the best way to remove whitespace characters from start or end.\n",
    "      Following examples are given:"
   ]
  },
  {
   "cell_type": "code",
   "execution_count": 33,
   "id": "f6582c22",
   "metadata": {},
   "outputs": [
    {
     "data": {
      "text/plain": [
       "'Hello, World'"
      ]
     },
     "execution_count": 33,
     "metadata": {},
     "output_type": "execute_result"
    }
   ],
   "source": [
    "spam = ' Hello, World '\n",
    "spam.strip()"
   ]
  },
  {
   "cell_type": "code",
   "execution_count": 31,
   "id": "50853b85",
   "metadata": {},
   "outputs": [
    {
     "data": {
      "text/plain": [
       "'Hello, World '"
      ]
     },
     "execution_count": 31,
     "metadata": {},
     "output_type": "execute_result"
    }
   ],
   "source": [
    "spam.lstrip()\n",
    "'Hello, World '"
   ]
  },
  {
   "cell_type": "code",
   "execution_count": 32,
   "id": "dde91a20",
   "metadata": {},
   "outputs": [
    {
     "data": {
      "text/plain": [
       "' Hello, World'"
      ]
     },
     "execution_count": 32,
     "metadata": {},
     "output_type": "execute_result"
    }
   ],
   "source": [
    "spam.rstrip()\n",
    "' Hello, World'"
   ]
  },
  {
   "cell_type": "code",
   "execution_count": null,
   "id": "02af4fd5",
   "metadata": {},
   "outputs": [],
   "source": []
  }
 ],
 "metadata": {
  "kernelspec": {
   "display_name": "Python 3 (ipykernel)",
   "language": "python",
   "name": "python3"
  },
  "language_info": {
   "codemirror_mode": {
    "name": "ipython",
    "version": 3
   },
   "file_extension": ".py",
   "mimetype": "text/x-python",
   "name": "python",
   "nbconvert_exporter": "python",
   "pygments_lexer": "ipython3",
   "version": "3.9.7"
  }
 },
 "nbformat": 4,
 "nbformat_minor": 5
}
