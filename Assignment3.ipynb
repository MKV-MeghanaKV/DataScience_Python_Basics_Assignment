{
 "cells": [
  {
   "cell_type": "markdown",
   "id": "f77b4215",
   "metadata": {},
   "source": [
    "When we want to do same task again and again we need to write the code again and again which is not good.Instead of writing code again and again we can write a function and we can call it as many times we want."
   ]
  },
  {
   "cell_type": "markdown",
   "id": "f7c7df7f",
   "metadata": {},
   "source": [
    "##### 2. When does the code in a function run: when it's specified or when it's called?"
   ]
  },
  {
   "cell_type": "markdown",
   "id": "d3e5c992",
   "metadata": {},
   "source": [
    "The code in a function run when it's called"
   ]
  },
  {
   "cell_type": "markdown",
   "id": "51a9c486",
   "metadata": {},
   "source": [
    "##### 3. What statement creates a function?"
   ]
  },
  {
   "cell_type": "markdown",
   "id": "c5b937f7",
   "metadata": {},
   "source": [
    "The \"def\" keyword is used for defining a function.Start a function with def keyword,specify a name followed by a colon (:) sign.\n",
    "ex: def create_file():"
   ]
  },
  {
   "cell_type": "markdown",
   "id": "6a9a79d3",
   "metadata": {},
   "source": [
    "##### 4. What is the difference between a function and a function call?"
   ]
  },
  {
   "cell_type": "markdown",
   "id": "35627418",
   "metadata": {},
   "source": [
    "A function is a piece of code which enhanced the reusability and modularity of your program.It means that piece of code need not be written again.\n",
    "A function call means invoking or calling that function.Unless a function is called there is no use of that function.\n",
    "Ex of function defination and function call is given below."
   ]
  },
  {
   "cell_type": "code",
   "execution_count": 11,
   "id": "9f2768df",
   "metadata": {},
   "outputs": [],
   "source": [
    "def reverse(a):\n",
    "    \n",
    "    for i in range(len(a)-1,-1,-1) :\n",
    "         print(a[i])\n",
    "        "
   ]
  },
  {
   "cell_type": "code",
   "execution_count": 12,
   "id": "2debcb8f",
   "metadata": {},
   "outputs": [
    {
     "name": "stdout",
     "output_type": "stream",
     "text": [
      "a\n",
      "n\n",
      "a\n",
      "h\n",
      "g\n",
      "e\n",
      "m\n"
     ]
    }
   ],
   "source": [
    "b='meghana'\n",
    "reverse(b)"
   ]
  },
  {
   "cell_type": "markdown",
   "id": "f345515d",
   "metadata": {},
   "source": [
    "##### 5. How many global scopes are there in a Python program? How many local scopes?"
   ]
  },
  {
   "cell_type": "markdown",
   "id": "db2e958a",
   "metadata": {},
   "source": [
    "One global scpoes and Four local scopes are there in python program.Four local scopes are local,enclosing,global and builtin."
   ]
  },
  {
   "cell_type": "markdown",
   "id": "9888ddd7",
   "metadata": {},
   "source": [
    "##### 6. What happens to variables in a local scope when the function call returns?"
   ]
  },
  {
   "cell_type": "markdown",
   "id": "4c0b4538",
   "metadata": {},
   "source": [
    "Variables in local scope are destroyed when the function call returns.Since local variables are only inside their function.Local variables are created when a function starts and deleted when the function is completed."
   ]
  },
  {
   "cell_type": "markdown",
   "id": "6a2b6784",
   "metadata": {},
   "source": [
    "##### 7. What is the concept of a return value? Is it possible to have a return value in an expression?"
   ]
  },
  {
   "cell_type": "markdown",
   "id": "ddde793f",
   "metadata": {},
   "source": [
    "A return statement is used to end the execution of the function call and returns the result (value of the expression following the return keyword) to the caller.The statements after the return statements are not executed.If the return statement is without any expression,then the special value None is returned.Yes it possible to have a return value in an expression."
   ]
  },
  {
   "cell_type": "code",
   "execution_count": 13,
   "id": "83a3e8ad",
   "metadata": {},
   "outputs": [],
   "source": [
    "def add(a,b):\n",
    "    return a+b"
   ]
  },
  {
   "cell_type": "code",
   "execution_count": 14,
   "id": "e428f10d",
   "metadata": {},
   "outputs": [
    {
     "data": {
      "text/plain": [
       "11"
      ]
     },
     "execution_count": 14,
     "metadata": {},
     "output_type": "execute_result"
    }
   ],
   "source": [
    "add(5,6)"
   ]
  },
  {
   "cell_type": "markdown",
   "id": "ffbee06c",
   "metadata": {},
   "source": [
    "##### 8. If a function does not have a return statement, what is the return value of a call to that function?"
   ]
  },
  {
   "cell_type": "markdown",
   "id": "7a6162a9",
   "metadata": {},
   "source": [
    "If there is no return statement then it returns none.The return value is None."
   ]
  },
  {
   "cell_type": "code",
   "execution_count": 15,
   "id": "be8bc6fa",
   "metadata": {},
   "outputs": [],
   "source": [
    "def sub(a,b):\n",
    "    sub=a-b"
   ]
  },
  {
   "cell_type": "code",
   "execution_count": 16,
   "id": "664ef711",
   "metadata": {},
   "outputs": [],
   "source": [
    "sub(6,5)"
   ]
  },
  {
   "cell_type": "code",
   "execution_count": 18,
   "id": "03d4e584",
   "metadata": {},
   "outputs": [
    {
     "data": {
      "text/plain": [
       "NoneType"
      ]
     },
     "execution_count": 18,
     "metadata": {},
     "output_type": "execute_result"
    }
   ],
   "source": [
    "type(sub(5,4))"
   ]
  },
  {
   "cell_type": "markdown",
   "id": "b834bb5a",
   "metadata": {},
   "source": [
    "##### 9. How do you make a function variable refer to the global variable?"
   ]
  },
  {
   "cell_type": "markdown",
   "id": "2083a20a",
   "metadata": {},
   "source": [
    "Declare a variable inside the function defination with keyword prefix to the variable.\n",
    "For example:"
   ]
  },
  {
   "cell_type": "code",
   "execution_count": 21,
   "id": "1d2c9544",
   "metadata": {},
   "outputs": [],
   "source": [
    "a=0\n",
    "def test():\n",
    "    global a\n",
    "    a+=1\n",
    "    print(a)"
   ]
  },
  {
   "cell_type": "code",
   "execution_count": 22,
   "id": "9ebccac0",
   "metadata": {},
   "outputs": [
    {
     "name": "stdout",
     "output_type": "stream",
     "text": [
      "1\n"
     ]
    }
   ],
   "source": [
    "test()"
   ]
  },
  {
   "cell_type": "markdown",
   "id": "4f30c58b",
   "metadata": {},
   "source": [
    "##### 10. What is the data type of None?"
   ]
  },
  {
   "cell_type": "markdown",
   "id": "7e114121",
   "metadata": {},
   "source": [
    "The data type of None is NoneType.None keyword is used to define a null value.None is not same as 0,False  or an empty string."
   ]
  },
  {
   "cell_type": "markdown",
   "id": "ff09c3cd",
   "metadata": {},
   "source": [
    "##### 11. What does the sentence import areallyourpetsnamederic do?"
   ]
  },
  {
   "cell_type": "markdown",
   "id": "d350db65",
   "metadata": {},
   "source": [
    "It simply imports the module named areallyourpetsnamederic."
   ]
  },
  {
   "cell_type": "markdown",
   "id": "91d63561",
   "metadata": {},
   "source": [
    "##### 12. If you had a bacon() feature in a spam module, how would you call it after importing spam?"
   ]
  },
  {
   "cell_type": "markdown",
   "id": "a55e0b3d",
   "metadata": {},
   "source": [
    "It can  be called by spam.bacon()"
   ]
  },
  {
   "cell_type": "markdown",
   "id": "036fa47c",
   "metadata": {},
   "source": [
    "##### 13. What can you do to save a programme from crashing if it encounters an error?"
   ]
  },
  {
   "cell_type": "markdown",
   "id": "39a83b47",
   "metadata": {},
   "source": [
    "To save a programme from crashing  we can use error handling methods that is adding try and except blocks.When the programme encounters an error the contro is passed to except block by skipping the code in between.It should try to run the program if it encounters error it show throw an error message instead of crashing the program."
   ]
  },
  {
   "cell_type": "code",
   "execution_count": 7,
   "id": "1b9ae5bb",
   "metadata": {},
   "outputs": [],
   "source": [
    "\n",
    "def multi(a,b):\n",
    "        try:\n",
    "            return a*b\n",
    "        except Exception as e:\n",
    "             return 'Error occured: '+str(e)\n",
    "        "
   ]
  },
  {
   "cell_type": "code",
   "execution_count": 9,
   "id": "f8b0a0c9",
   "metadata": {},
   "outputs": [
    {
     "name": "stdout",
     "output_type": "stream",
     "text": [
      "6\n"
     ]
    }
   ],
   "source": [
    " print(multi(3,2))"
   ]
  },
  {
   "cell_type": "code",
   "execution_count": 11,
   "id": "fab7a92c",
   "metadata": {},
   "outputs": [
    {
     "name": "stdout",
     "output_type": "stream",
     "text": [
      "bb\n"
     ]
    }
   ],
   "source": [
    "print((multi(2,'b')))"
   ]
  },
  {
   "cell_type": "markdown",
   "id": "ccce3ae0",
   "metadata": {},
   "source": [
    "##### 14. What is the purpose of the try clause? What is the purpose of the except clause?"
   ]
  },
  {
   "cell_type": "markdown",
   "id": "03c53458",
   "metadata": {},
   "source": [
    "The try block is used to test a block of code for error.If error occurs it is handled by except block."
   ]
  },
  {
   "cell_type": "code",
   "execution_count": 1,
   "id": "11dc619a",
   "metadata": {},
   "outputs": [],
   "source": [
    "def div(a,b):\n",
    "    try:\n",
    "        divi=a/b\n",
    "        return divi\n",
    "    except Exception as e:\n",
    "         return 'Error occured: '+str(e)"
   ]
  },
  {
   "cell_type": "code",
   "execution_count": 2,
   "id": "b783cd46",
   "metadata": {},
   "outputs": [
    {
     "data": {
      "text/plain": [
       "'Error occured: division by zero'"
      ]
     },
     "execution_count": 2,
     "metadata": {},
     "output_type": "execute_result"
    }
   ],
   "source": [
    "div(4,0)"
   ]
  },
  {
   "cell_type": "markdown",
   "id": "39d07434",
   "metadata": {},
   "source": [
    "Try block consists of code that should be executed in case if any error occurs it will execute except block which shows the error occured.It is always safer to use try and except clause by default when we are writhing code."
   ]
  },
  {
   "cell_type": "code",
   "execution_count": null,
   "id": "941cdb4c",
   "metadata": {},
   "outputs": [],
   "source": []
  }
 ],
 "metadata": {
  "kernelspec": {
   "display_name": "Python 3 (ipykernel)",
   "language": "python",
   "name": "python3"
  },
  "language_info": {
   "codemirror_mode": {
    "name": "ipython",
    "version": 3
   },
   "file_extension": ".py",
   "mimetype": "text/x-python",
   "name": "python",
   "nbconvert_exporter": "python",
   "pygments_lexer": "ipython3",
   "version": "3.9.7"
  }
 },
 "nbformat": 4,
 "nbformat_minor": 5
}
