{
 "cells": [
  {
   "cell_type": "markdown",
   "id": "e3854d13",
   "metadata": {},
   "source": [
    "# Assignment 4"
   ]
  },
  {
   "cell_type": "markdown",
   "id": "b4c1d0d9",
   "metadata": {},
   "source": [
    "1. What exactly is []?\n",
    "2. In a list of values stored in a variable called spam, how would you assign the value &#39;hello&#39; as the\n",
    "third value? (Assume [2, 4, 6, 8, 10] are in spam.)\n",
    "\n",
    "\n",
    "Let&#39;s pretend the spam includes the list [&#39;a&#39;, &#39;b&#39;, &#39;c&#39;, &#39;d&#39;] for the next three queries.\n",
    "\n",
    "3. What is the value of spam[int(int(&#39;3&#39; * 2) / 11)]?\n",
    "\n",
    "4. What is the value of spam[-1]?\n",
    "\n",
    "5. What is the value of spam[:2]?\n",
    "\n",
    "\n",
    "Let&#39;s pretend bacon has the list [3.14, &#39;cat,&#39; 11, &#39;cat,&#39; True] for the next three questions.\n",
    "\n",
    "\n",
    "6. What is the value of bacon.index(&#39;cat&#39;)?\n",
    "\n",
    "7. How does bacon.append(99) change the look of the list value in bacon?\n",
    "\n",
    "8. How does bacon.remove(&#39;cat&#39;) change the look of the list in bacon?\n",
    "\n",
    "9. What are the list concatenation and list replication operators?\n",
    "\n",
    "10. What is difference between the list methods append() and insert()?\n",
    "\n",
    "11. What are the two methods for removing items from a list?\n",
    "\n",
    "12. Describe how list values and string values are identical.\n",
    "\n",
    "13. What&#39;s the difference between tuples and lists?\n",
    "\n",
    "14. How do you type a tuple value that only contains the integer 42?\n",
    "\n",
    "15. How do you get a list value&#39;s tuple form? How do you get a tuple value&#39;s list form?\n",
    "\n",
    "16. Variables that &quot;contain&quot; list values are not necessarily lists themselves. Instead, what do they\n",
    "contain?\n",
    "\n",
    "17. How do you distinguish between copy.copy() and copy.deepcopy()?"
   ]
  },
  {
   "cell_type": "markdown",
   "id": "1bd56dc9",
   "metadata": {},
   "source": [
    "##### 1.What exactly is [ ]?"
   ]
  },
  {
   "cell_type": "markdown",
   "id": "64280ca8",
   "metadata": {},
   "source": [
    "[]- Index brackets which are mainly used to define list literals and many more like-"
   ]
  },
  {
   "cell_type": "code",
   "execution_count": 7,
   "id": "1cbee26f",
   "metadata": {},
   "outputs": [
    {
     "name": "stdout",
     "output_type": "stream",
     "text": [
      "3\n",
      "[1, 3, 8, 6, 'Data']\n",
      "Data\n",
      "l\n",
      "c\n",
      "{1: 'a', 'b': 77, 5: 'c', 2: 'e'}\n"
     ]
    }
   ],
   "source": [
    "#creating list\n",
    "l=[1,3,5,6,\"Data\"]\n",
    "#we can retrive 2nd element of the list by its index value\n",
    "a=l[1]\n",
    "print(a)\n",
    "#Updating new value of existing element in the list\n",
    "l[2]=8\n",
    "print(l)\n",
    "#can also use negative indexes \n",
    "print(l[-1])\n",
    "#index brackets can be used for string type also\n",
    "b=\"I am learning python\"\n",
    "print(b[5])\n",
    "#Also used in dictionary to add new element,adding new value to an exixting key\n",
    "dict={1:\"a\",\"b\":2,5:\"c\",2:\"e\"}\n",
    "print(dict[5])\n",
    "dict[\"b\"]=77\n",
    "print(dict)"
   ]
  },
  {
   "cell_type": "markdown",
   "id": "0c71398e",
   "metadata": {},
   "source": [
    "##### 2.In a list of values stored in a variable called spam, how would you assign the value 'hello' as the third value? (Assume [2, 4, 6, 8, 10] are in spam.)"
   ]
  },
  {
   "cell_type": "code",
   "execution_count": 8,
   "id": "cdc893f5",
   "metadata": {},
   "outputs": [
    {
     "name": "stdout",
     "output_type": "stream",
     "text": [
      "[2, 4, 'hello', 8, 10]\n"
     ]
    }
   ],
   "source": [
    "spam=[2,4,6,8,10]\n",
    "spam[2]=\"hello\"\n",
    "print(spam)"
   ]
  },
  {
   "cell_type": "markdown",
   "id": "1206ad33",
   "metadata": {},
   "source": [
    "##### Let's pretend the spam includes the list ['a', 'b', 'c', 'd'] for the next three queries.\n"
   ]
  },
  {
   "cell_type": "markdown",
   "id": "26b12084",
   "metadata": {},
   "source": [
    "##### 3.What is the value of spam[int(int('3' * 2) / 11)]?\n",
    "\n",
    "'3'*2 gives '33' \n",
    "\n",
    "int('33') gives 33\n",
    "\n",
    "33/11 gives 3.0\n",
    "\n",
    "int(3.0) gives 3\n",
    "\n",
    "spam[3] means 4th element of spam list that is 'd'"
   ]
  },
  {
   "cell_type": "code",
   "execution_count": 15,
   "id": "5514356c",
   "metadata": {},
   "outputs": [
    {
     "data": {
      "text/plain": [
       "'d'"
      ]
     },
     "execution_count": 15,
     "metadata": {},
     "output_type": "execute_result"
    }
   ],
   "source": [
    "spam=['a','b','c','d']\n",
    "spam[int(int('3'*2)/11)]"
   ]
  },
  {
   "cell_type": "markdown",
   "id": "993c7643",
   "metadata": {},
   "source": [
    "##### 4.What is the value of spam[-1]?\n",
    "\n",
    "spam[-1] means last element of the list that is 'd'."
   ]
  },
  {
   "cell_type": "code",
   "execution_count": 16,
   "id": "2180fd27",
   "metadata": {},
   "outputs": [
    {
     "data": {
      "text/plain": [
       "'d'"
      ]
     },
     "execution_count": 16,
     "metadata": {},
     "output_type": "execute_result"
    }
   ],
   "source": [
    "spam[-1]"
   ]
  },
  {
   "cell_type": "markdown",
   "id": "c02af762",
   "metadata": {},
   "source": [
    "##### 5.What is the value of spam[:2]?\n",
    "\n",
    "The lower bound is not defined means default 0th index and Upper bound is 2 which means elements from 0th index to 1st index. "
   ]
  },
  {
   "cell_type": "code",
   "execution_count": 18,
   "id": "87bbb9aa",
   "metadata": {},
   "outputs": [
    {
     "data": {
      "text/plain": [
       "['a', 'b']"
      ]
     },
     "execution_count": 18,
     "metadata": {},
     "output_type": "execute_result"
    }
   ],
   "source": [
    "spam[:2]"
   ]
  },
  {
   "cell_type": "markdown",
   "id": "2449bee4",
   "metadata": {},
   "source": [
    "##### Let's pretend bacon has the list [3.14, 'cat', 11, 'cat' True'] for the next three questions."
   ]
  },
  {
   "cell_type": "markdown",
   "id": "175b61ec",
   "metadata": {},
   "source": [
    "##### 6.What is the value of bacon.index('cat')?\n",
    "\n",
    "1\n",
    "It will consider the first specified index value of element given."
   ]
  },
  {
   "cell_type": "code",
   "execution_count": 6,
   "id": "acfc6d1e",
   "metadata": {},
   "outputs": [
    {
     "data": {
      "text/plain": [
       "1"
      ]
     },
     "execution_count": 6,
     "metadata": {},
     "output_type": "execute_result"
    }
   ],
   "source": [
    "bacon=[3.14,'cat',11,'cat','True']\n",
    "bacon.index('cat')"
   ]
  },
  {
   "cell_type": "markdown",
   "id": "c637f440",
   "metadata": {},
   "source": [
    "##### 7.How does bacon.append(99) change the look of the list value in bacon?\n",
    "\n",
    "Adds new element at last of the list.Then bacon will be [3.14,'cat',11,'cat','True',99]\n"
   ]
  },
  {
   "cell_type": "code",
   "execution_count": 7,
   "id": "66723f0c",
   "metadata": {},
   "outputs": [
    {
     "data": {
      "text/plain": [
       "[3.14, 'cat', 11, 'cat', 'True', 99]"
      ]
     },
     "execution_count": 7,
     "metadata": {},
     "output_type": "execute_result"
    }
   ],
   "source": [
    "bacon.append(99)\n",
    "bacon"
   ]
  },
  {
   "cell_type": "markdown",
   "id": "8d31595c",
   "metadata": {},
   "source": [
    "##### 8.How does bacon.remove('cat') change the look of the list in bacon?\n",
    "\n",
    "The value 'cat' which is having lowest index value will be removed.If we execute it for two times the value 'cat' will be removed from the list because it has only two 'cat' value."
   ]
  },
  {
   "cell_type": "code",
   "execution_count": 8,
   "id": "20791a83",
   "metadata": {},
   "outputs": [
    {
     "data": {
      "text/plain": [
       "[3.14, 11, 'cat', 'True', 99]"
      ]
     },
     "execution_count": 8,
     "metadata": {},
     "output_type": "execute_result"
    }
   ],
   "source": [
    "bacon.remove('cat') \n",
    "bacon"
   ]
  },
  {
   "cell_type": "markdown",
   "id": "5b4a82d8",
   "metadata": {},
   "source": [
    "##### 9.What are the list concatenation and list replication operators?\n",
    "\n",
    "The operator for list concatenation is +,for list replication is * ."
   ]
  },
  {
   "cell_type": "code",
   "execution_count": 7,
   "id": "7333f565",
   "metadata": {},
   "outputs": [
    {
     "data": {
      "text/plain": [
       "[1, 2, 3, 4, 5, 6, 7, 8, 9, 10]"
      ]
     },
     "execution_count": 7,
     "metadata": {},
     "output_type": "execute_result"
    }
   ],
   "source": [
    "l1=[1,2,3,4,5]\n",
    "l2=[6,7,8,9,10]\n",
    "l3=l1+l2\n",
    "l3"
   ]
  },
  {
   "cell_type": "code",
   "execution_count": 8,
   "id": "cab2086f",
   "metadata": {},
   "outputs": [
    {
     "data": {
      "text/plain": [
       "[3, 3, 3, 3, 3, 5, 5, 5, 5, 5, 6, 6, 6, 6, 6, 7, 7, 7, 7, 7]"
      ]
     },
     "execution_count": 8,
     "metadata": {},
     "output_type": "execute_result"
    }
   ],
   "source": [
    "a=5\n",
    "l=[3,5,6,7]\n",
    "sorted(l*a)"
   ]
  },
  {
   "cell_type": "markdown",
   "id": "10c638a0",
   "metadata": {},
   "source": [
    "##### 10. What is difference between the list methods append() and insert()?\n",
    "      To add new values to the list append() and insert() is used.\n",
    "      When append() is called it adds the element to end of the list.\n",
    "      When insert() is called it has to be specified with index value and item to be added to list.\n",
    "     (Note:The return value of append() and insert() is None,so definitely not to store in new variable)"
   ]
  },
  {
   "cell_type": "code",
   "execution_count": 1,
   "id": "db27b896",
   "metadata": {},
   "outputs": [
    {
     "data": {
      "text/plain": [
       "['science', 'maths', 'social', 'hindi']"
      ]
     },
     "execution_count": 1,
     "metadata": {},
     "output_type": "execute_result"
    }
   ],
   "source": [
    "courses=['science','maths','social']\n",
    "courses.append('hindi')\n",
    "courses"
   ]
  },
  {
   "cell_type": "code",
   "execution_count": 6,
   "id": "c94fa648",
   "metadata": {},
   "outputs": [
    {
     "data": {
      "text/plain": [
       "['science', 'maths', 'social', 'english', 'hindi', 'kannada', 'social']"
      ]
     },
     "execution_count": 6,
     "metadata": {},
     "output_type": "execute_result"
    }
   ],
   "source": [
    "courses=['science','maths','social']\n",
    "courses.insert(2,'english')\n",
    "courses.insert(3,'hindi')\n",
    "courses.insert(4,'kannada')\n",
    "courses.insert(2,'social')\n",
    "courses"
   ]
  },
  {
   "cell_type": "markdown",
   "id": "2a99bdac",
   "metadata": {},
   "source": [
    "##### 11. What are the two methods for removing items from a list?\n",
    "      Removing items from the list using remove().In remove() method the value must be specified.If the list contains two or \n",
    "      more same items then the first item will be removed.Examples are shown below.\n",
    "      Removing items from the list using del in which the index of the removing must be specified with list name as shown in \n",
    "      below example."
   ]
  },
  {
   "cell_type": "code",
   "execution_count": 15,
   "id": "20072967",
   "metadata": {},
   "outputs": [
    {
     "data": {
      "text/plain": [
       "['science', 'social']"
      ]
     },
     "execution_count": 15,
     "metadata": {},
     "output_type": "execute_result"
    }
   ],
   "source": [
    "courses=['science','maths','social']\n",
    "del courses[1]\n",
    "courses"
   ]
  },
  {
   "cell_type": "code",
   "execution_count": 17,
   "id": "79d3d90b",
   "metadata": {},
   "outputs": [
    {
     "data": {
      "text/plain": [
       "['science', 'social']"
      ]
     },
     "execution_count": 17,
     "metadata": {},
     "output_type": "execute_result"
    }
   ],
   "source": [
    "courses=['science','maths','social']\n",
    "courses.remove('maths')\n",
    "courses"
   ]
  },
  {
   "cell_type": "code",
   "execution_count": 19,
   "id": "85f9a592",
   "metadata": {},
   "outputs": [
    {
     "data": {
      "text/plain": [
       "['science', 'maths', 'english', 'hindi', 'kannada', 'social']"
      ]
     },
     "execution_count": 19,
     "metadata": {},
     "output_type": "execute_result"
    }
   ],
   "source": [
    "courses=['science', 'maths', 'social', 'english', 'hindi', 'kannada', 'social']\n",
    "courses.remove('social')\n",
    "courses"
   ]
  },
  {
   "cell_type": "markdown",
   "id": "dbac9232",
   "metadata": {},
   "source": [
    "##### 12. Describe how list values and string values are identical.\n",
    "      As len(),indexes and slices in for loops,concate,replicate,in,not in all these operations can be performed for both \n",
    "      string and list we can say that list and string values are identical.Some examples are shown below.\n",
    "      "
   ]
  },
  {
   "cell_type": "code",
   "execution_count": 20,
   "id": "9ba15b88",
   "metadata": {},
   "outputs": [
    {
     "data": {
      "text/plain": [
       "[1, 2, 'hello', 3, 1, 2, 'hello', 3, 1, 2, 'hello', 3]"
      ]
     },
     "execution_count": 20,
     "metadata": {},
     "output_type": "execute_result"
    }
   ],
   "source": [
    "#Replication\n",
    "list=[1,2,'hello',3]\n",
    "list*3"
   ]
  },
  {
   "cell_type": "code",
   "execution_count": 21,
   "id": "e4be122e",
   "metadata": {},
   "outputs": [
    {
     "data": {
      "text/plain": [
       "'hellohellohello'"
      ]
     },
     "execution_count": 21,
     "metadata": {},
     "output_type": "execute_result"
    }
   ],
   "source": [
    "string=\"hello\"\n",
    "string*3"
   ]
  },
  {
   "cell_type": "code",
   "execution_count": 22,
   "id": "5fb60b21",
   "metadata": {},
   "outputs": [
    {
     "data": {
      "text/plain": [
       "4"
      ]
     },
     "execution_count": 22,
     "metadata": {},
     "output_type": "execute_result"
    }
   ],
   "source": [
    "#len()\n",
    "len(list)"
   ]
  },
  {
   "cell_type": "code",
   "execution_count": 23,
   "id": "81cb7d86",
   "metadata": {},
   "outputs": [
    {
     "data": {
      "text/plain": [
       "5"
      ]
     },
     "execution_count": 23,
     "metadata": {},
     "output_type": "execute_result"
    }
   ],
   "source": [
    "len(string)"
   ]
  },
  {
   "cell_type": "code",
   "execution_count": 24,
   "id": "09e12ae0",
   "metadata": {},
   "outputs": [
    {
     "data": {
      "text/plain": [
       "True"
      ]
     },
     "execution_count": 24,
     "metadata": {},
     "output_type": "execute_result"
    }
   ],
   "source": [
    "'hello' in list"
   ]
  },
  {
   "cell_type": "code",
   "execution_count": 25,
   "id": "126ea301",
   "metadata": {},
   "outputs": [
    {
     "data": {
      "text/plain": [
       "False"
      ]
     },
     "execution_count": 25,
     "metadata": {},
     "output_type": "execute_result"
    }
   ],
   "source": [
    "'hello' not in list"
   ]
  },
  {
   "cell_type": "code",
   "execution_count": 26,
   "id": "eeffbca4",
   "metadata": {},
   "outputs": [
    {
     "data": {
      "text/plain": [
       "True"
      ]
     },
     "execution_count": 26,
     "metadata": {},
     "output_type": "execute_result"
    }
   ],
   "source": [
    "'e' in string"
   ]
  },
  {
   "cell_type": "code",
   "execution_count": 27,
   "id": "3411f7b4",
   "metadata": {},
   "outputs": [
    {
     "data": {
      "text/plain": [
       "True"
      ]
     },
     "execution_count": 27,
     "metadata": {},
     "output_type": "execute_result"
    }
   ],
   "source": [
    "'n' not in string"
   ]
  },
  {
   "cell_type": "code",
   "execution_count": 28,
   "id": "ebab9f2e",
   "metadata": {},
   "outputs": [
    {
     "data": {
      "text/plain": [
       "[1, 2, 'hello', 3, '5', '6', '8']"
      ]
     },
     "execution_count": 28,
     "metadata": {},
     "output_type": "execute_result"
    }
   ],
   "source": [
    "list1=['5','6','8']\n",
    "list+list1"
   ]
  },
  {
   "cell_type": "code",
   "execution_count": 29,
   "id": "b1f143b7",
   "metadata": {},
   "outputs": [
    {
     "data": {
      "text/plain": [
       "'hellohai'"
      ]
     },
     "execution_count": 29,
     "metadata": {},
     "output_type": "execute_result"
    }
   ],
   "source": [
    "string1='hai'\n",
    "string+string1"
   ]
  },
  {
   "cell_type": "markdown",
   "id": "0f26a751",
   "metadata": {},
   "source": [
    "##### 13.What's the difference between tuples and lists?\n",
    "      Tuples are immutable that is we cannot add or remove elements.Items are inside parathesis () in tuple.\n",
    "      List are mutable that is we can add,remove,manipulate the list items.Items are inside square brackets [] in list."
   ]
  },
  {
   "cell_type": "code",
   "execution_count": 31,
   "id": "45c09308",
   "metadata": {},
   "outputs": [
    {
     "ename": "TypeError",
     "evalue": "'tuple' object does not support item assignment",
     "output_type": "error",
     "traceback": [
      "\u001b[1;31m---------------------------------------------------------------------------\u001b[0m",
      "\u001b[1;31mTypeError\u001b[0m                                 Traceback (most recent call last)",
      "\u001b[1;32m~\\AppData\\Local\\Temp/ipykernel_2300/1566803991.py\u001b[0m in \u001b[0;36m<module>\u001b[1;34m\u001b[0m\n\u001b[0;32m      1\u001b[0m \u001b[0mt\u001b[0m\u001b[1;33m=\u001b[0m\u001b[1;33m(\u001b[0m\u001b[1;36m24\u001b[0m\u001b[1;33m,\u001b[0m\u001b[1;36m78\u001b[0m\u001b[1;33m,\u001b[0m\u001b[1;36m56\u001b[0m\u001b[1;33m)\u001b[0m\u001b[1;33m\u001b[0m\u001b[1;33m\u001b[0m\u001b[0m\n\u001b[1;32m----> 2\u001b[1;33m \u001b[0mt\u001b[0m\u001b[1;33m[\u001b[0m\u001b[1;36m1\u001b[0m\u001b[1;33m]\u001b[0m\u001b[1;33m=\u001b[0m\u001b[1;36m44\u001b[0m\u001b[1;33m\u001b[0m\u001b[1;33m\u001b[0m\u001b[0m\n\u001b[0m",
      "\u001b[1;31mTypeError\u001b[0m: 'tuple' object does not support item assignment"
     ]
    }
   ],
   "source": [
    "t=(24,78,56)\n",
    "t[1]=44"
   ]
  },
  {
   "cell_type": "code",
   "execution_count": 33,
   "id": "194b2ce4",
   "metadata": {},
   "outputs": [
    {
     "data": {
      "text/plain": [
       "[24, 66, 54, 98]"
      ]
     },
     "execution_count": 33,
     "metadata": {},
     "output_type": "execute_result"
    }
   ],
   "source": [
    "list=[24,66,'hello',98]\n",
    "list[2]=54\n",
    "list"
   ]
  },
  {
   "cell_type": "markdown",
   "id": "55493e44",
   "metadata": {},
   "source": [
    "##### 14.How do you type a tuple value that only contains the integer 42?"
   ]
  },
  {
   "cell_type": "code",
   "execution_count": 3,
   "id": "d6489633",
   "metadata": {},
   "outputs": [
    {
     "data": {
      "text/plain": [
       "tuple"
      ]
     },
     "execution_count": 3,
     "metadata": {},
     "output_type": "execute_result"
    }
   ],
   "source": [
    "t=(45,)\n",
    "type(t)"
   ]
  },
  {
   "cell_type": "markdown",
   "id": "e6243b8b",
   "metadata": {},
   "source": [
    "##### 15.How do you get a list value's tuple form? How do you get a tuple value's list form? \n",
    "        By using list() and tuple() functions respectively."
   ]
  },
  {
   "cell_type": "code",
   "execution_count": 4,
   "id": "e45a574d",
   "metadata": {},
   "outputs": [
    {
     "data": {
      "text/plain": [
       "[35, 67, 'hello', 95]"
      ]
     },
     "execution_count": 4,
     "metadata": {},
     "output_type": "execute_result"
    }
   ],
   "source": [
    "t=(35,67,'hello',95)\n",
    "list(t)"
   ]
  },
  {
   "cell_type": "code",
   "execution_count": 5,
   "id": "d2c16150",
   "metadata": {},
   "outputs": [
    {
     "data": {
      "text/plain": [
       "('science', 56, 89, 45)"
      ]
     },
     "execution_count": 5,
     "metadata": {},
     "output_type": "execute_result"
    }
   ],
   "source": [
    "list=['science',56,89,45]\n",
    "tuple(list)"
   ]
  },
  {
   "cell_type": "markdown",
   "id": "8e8cfed4",
   "metadata": {},
   "source": [
    "##### 16.Variables that \"contain\" list values are not necessarily lists themselves. Instead, what do they contain?"
   ]
  },
  {
   "cell_type": "markdown",
   "id": "bc66898c",
   "metadata": {},
   "source": [
    "They contain list values."
   ]
  },
  {
   "cell_type": "markdown",
   "id": "b7d63aee",
   "metadata": {},
   "source": [
    "##### 17.How do you distinguish between copy.copy() and copy.deepcopy()?\n",
    "      copy.copy() function do shallow copy of a list.copy.deepcopy() function do a deep copy of a list that is duplicate any \n",
    "      list inside the list."
   ]
  },
  {
   "cell_type": "code",
   "execution_count": 6,
   "id": "d86bfbbc",
   "metadata": {},
   "outputs": [
    {
     "name": "stdout",
     "output_type": "stream",
     "text": [
      "The original elements before deep copying\n",
      "1 2 [3, 5] 4 \r\n",
      "The new list of elements after deep copying \n",
      "1 2 [7, 5] 4 \r\n",
      "The original elements after deep copying\n",
      "1 2 [3, 5] 4 "
     ]
    }
   ],
   "source": [
    "import copy\n",
    " \n",
    "# initializing list 1\n",
    "\n",
    "li1 = [1, 2, [3,5], 4]\n",
    " \n",
    "# using deepcopy to deep copy\n",
    "\n",
    "li2 = copy.deepcopy(li1)\n",
    " \n",
    "# original elements of list\n",
    "\n",
    "print (\"The original elements before deep copying\")\n",
    "\n",
    "for i in range(0,len(li1)):\n",
    "\n",
    "    print (li1[i],end=\" \")\n",
    " \n",
    "\n",
    "print(\"\\r\")\n",
    " \n",
    "# adding and element to new list\n",
    "\n",
    "li2[2][0] = 7\n",
    " \n",
    "# Change is reflected in l2\n",
    "\n",
    "print (\"The new list of elements after deep copying \")\n",
    "\n",
    "for i in range(0,len( li1)):\n",
    "\n",
    "    print (li2[i],end=\" \")\n",
    " \n",
    "\n",
    "print(\"\\r\")\n",
    " \n",
    "# Change is NOT reflected in original list\n",
    "# as it is a deep copy\n",
    "\n",
    "print (\"The original elements after deep copying\")\n",
    "\n",
    "for i in range(0,len( li1)):\n",
    "\n",
    "    print (li1[i],end=\" \")"
   ]
  },
  {
   "cell_type": "code",
   "execution_count": 8,
   "id": "75673d60",
   "metadata": {},
   "outputs": [
    {
     "name": "stdout",
     "output_type": "stream",
     "text": [
      "The original elements before deep copying\n",
      "1 2 [3, 5] 4 \r\n",
      "The new list of elements after shallow copying \n",
      "1 2 [7, 5] 4 \r\n",
      "The original elements after shallow copying\n",
      "1 2 [7, 5] 4 "
     ]
    }
   ],
   "source": [
    "import copy\n",
    " \n",
    "# initializing list 1\n",
    "\n",
    "li1 = [1, 2, [3,5], 4]\n",
    " \n",
    "# using deepcopy to deep copy\n",
    "\n",
    "li2 = copy.copy(li1)\n",
    " \n",
    "# original elements of list\n",
    "\n",
    "print (\"The original elements before deep copying\")\n",
    "\n",
    "for i in range(0,len(li1)):\n",
    "\n",
    "    print (li1[i],end=\" \")\n",
    " \n",
    "\n",
    "print(\"\\r\")\n",
    " \n",
    "# adding and element to new list\n",
    "\n",
    "li2[2][0] = 7\n",
    " \n",
    "# Change is reflected in l2\n",
    "\n",
    "print (\"The new list of elements after shallow copying \")\n",
    "\n",
    "for i in range(0,len( li1)):\n",
    "\n",
    "    print (li2[i],end=\" \")\n",
    " \n",
    "\n",
    "print(\"\\r\")\n",
    " \n",
    "# Change is NOT reflected in original list\n",
    "# as it is a deep copy\n",
    "\n",
    "print (\"The original elements after shallow copying\")\n",
    "\n",
    "for i in range(0,len( li1)):\n",
    "\n",
    "    print (li1[i],end=\" \")"
   ]
  },
  {
   "cell_type": "markdown",
   "id": "439a9d8e",
   "metadata": {},
   "source": [
    "We can see the difference between copy.copy() and copy.deepcopy() by above examples shown.When shallow copy is done it affects the original elements if modified in elements of copied list.Where as in deepcopy original elements are not affected."
   ]
  },
  {
   "cell_type": "code",
   "execution_count": null,
   "id": "ad7135c4",
   "metadata": {},
   "outputs": [],
   "source": []
  }
 ],
 "metadata": {
  "kernelspec": {
   "display_name": "Python 3 (ipykernel)",
   "language": "python",
   "name": "python3"
  },
  "language_info": {
   "codemirror_mode": {
    "name": "ipython",
    "version": 3
   },
   "file_extension": ".py",
   "mimetype": "text/x-python",
   "name": "python",
   "nbconvert_exporter": "python",
   "pygments_lexer": "ipython3",
   "version": "3.9.7"
  }
 },
 "nbformat": 4,
 "nbformat_minor": 5
}
